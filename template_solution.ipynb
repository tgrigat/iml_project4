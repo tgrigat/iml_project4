{
 "cells": [
  {
   "cell_type": "markdown",
   "id": "57002395eb6b50f8",
   "metadata": {
    "collapsed": false
   },
   "source": [
    "# Task 4\n",
    "This serves as a template which will guide you through the implementation of this task. It is advised to first read the whole template and get a sense of the overall structure of the code before trying to fill in any of the TODO gaps.\n",
    "This is the jupyter notebook version of the template. For the python file version, please refer to the file `template_solution.py`."
   ]
  },
  {
   "cell_type": "markdown",
   "id": "c0a46aca0e5d9ef",
   "metadata": {
    "collapsed": false
   },
   "source": [
    "First, we import necessary libraries:"
   ]
  },
  {
   "cell_type": "code",
   "execution_count": 12,
   "id": "b1c6ff7632991155",
   "metadata": {
    "collapsed": false
   },
   "outputs": [],
   "source": [
    "import numpy as np\n",
    "import pandas as pd\n",
    "import torch\n",
    "from datasets import Dataset, DatasetDict\n",
    "from sklearn.metrics import mean_squared_error\n",
    "from tqdm import tqdm\n",
    "from transformers import (\n",
    "    AutoModelForSequenceClassification,\n",
    "    AutoTokenizer,\n",
    "    EarlyStoppingCallback,\n",
    "    Trainer,\n",
    "    TrainingArguments,\n",
    ")\n",
    "# Add any other imports you need here"
   ]
  },
  {
   "cell_type": "markdown",
   "id": "6b5cba49",
   "metadata": {},
   "source": [
    "Depending on your approach, you might need to adapt the structure of this template or parts not marked by TODOs.\n",
    "It is not necessary to completely follow this template. Feel free to add more code and delete any parts that are not required."
   ]
  },
  {
   "cell_type": "code",
   "execution_count": 13,
   "id": "ebad1410",
   "metadata": {},
   "outputs": [],
   "source": [
    "def clear_cache():\n",
    "    if torch.backends.mps.is_available():\n",
    "        torch.mps.empty_cache()"
   ]
  },
  {
   "cell_type": "code",
   "execution_count": 19,
   "id": "8d9b5e89d4b3a02",
   "metadata": {
    "collapsed": false
   },
   "outputs": [
    {
     "name": "stdout",
     "output_type": "stream",
     "text": [
      "{'text': \"Why I Bought This CD Forgotten Dreams by David Pietro was such a strong CD that I've ordered this latest CD without reading any reviews. I know I'll love it!\", 'label': 9.377984268162235}\n"
     ]
    }
   ],
   "source": [
    "# DEVICE = torch.device(\"cuda:0\" if torch.cuda.is_available() else \"cpu\")\n",
    "BATCH_SIZE = 128  # TODO: Set the batch size according to both training performance and available memory\n",
    "NUM_EPOCHS = 10  # TODO: Set the number of epochs\n",
    "\n",
    "# Load test data\n",
    "test_val = pd.read_csv(\"test_no_score.csv\")\n",
    "test_val[\"text\"] = test_val[\"title\"] + \" \" + test_val[\"sentence\"]\n",
    "test_val = test_val[[\"text\"]]\n",
    "\n",
    "\n",
    "# Load train data\n",
    "train_val = pd.read_csv(\"train.csv\")\n",
    "\n",
    "train_val[\"text\"] = train_val[\"title\"] + \" \" + train_val[\"sentence\"]\n",
    "train_val[\"label\"] = train_val[\"score\"]\n",
    "train_val = train_val[[\"text\", \"label\"]]\n",
    "\n",
    "# Load datasets\n",
    "train_dataset = Dataset.from_pandas(train_val)\n",
    "test_dataset = Dataset.from_pandas(test_val)\n",
    "\n",
    "train_test_split = train_dataset.train_test_split(test_size=0.1)\n",
    "dataset = DatasetDict(\n",
    "    {\"train\": train_test_split[\"train\"], \"validation\": train_test_split[\"test\"]}\n",
    ")\n",
    "test_dataset = DatasetDict({\"test\": test_dataset})\n",
    "\n",
    "\n",
    "print(dataset[\"train\"][0])"
   ]
  },
  {
   "cell_type": "code",
   "execution_count": 21,
   "id": "93bbf955",
   "metadata": {},
   "outputs": [
    {
     "data": {
      "application/vnd.jupyter.widget-view+json": {
       "model_id": "6ab50b1091c644159a62c41c93bab6e8",
       "version_major": 2,
       "version_minor": 0
      },
      "text/plain": [
       "Map:   0%|          | 0/11250 [00:00<?, ? examples/s]"
      ]
     },
     "metadata": {},
     "output_type": "display_data"
    },
    {
     "data": {
      "application/vnd.jupyter.widget-view+json": {
       "model_id": "bd46ab073be54651be4d348842c7ebf5",
       "version_major": 2,
       "version_minor": 0
      },
      "text/plain": [
       "Map:   0%|          | 0/1250 [00:00<?, ? examples/s]"
      ]
     },
     "metadata": {},
     "output_type": "display_data"
    },
    {
     "data": {
      "application/vnd.jupyter.widget-view+json": {
       "model_id": "3763e9b50ef149e2a9ac3f2bc57b4208",
       "version_major": 2,
       "version_minor": 0
      },
      "text/plain": [
       "Map:   0%|          | 0/1000 [00:00<?, ? examples/s]"
      ]
     },
     "metadata": {},
     "output_type": "display_data"
    },
    {
     "name": "stdout",
     "output_type": "stream",
     "text": [
      "{'text': \"Why I Bought This CD Forgotten Dreams by David Pietro was such a strong CD that I've ordered this latest CD without reading any reviews. I know I'll love it!\", 'label': 9.377984268162235, 'input_ids': [0, 7608, 38, 45192, 152, 7522, 43799, 26843, 30, 871, 20964, 1001, 21, 215, 10, 670, 7522, 14, 38, 348, 2740, 42, 665, 7522, 396, 2600, 143, 6173, 4, 38, 216, 38, 581, 657, 24, 328, 2, 1, 1, 1, 1, 1, 1, 1, 1, 1, 1, 1, 1, 1, 1, 1, 1, 1, 1, 1, 1, 1, 1, 1, 1, 1, 1, 1, 1, 1, 1, 1, 1, 1, 1, 1, 1, 1, 1, 1, 1, 1, 1, 1, 1, 1, 1, 1, 1, 1, 1, 1, 1, 1, 1, 1, 1, 1, 1, 1, 1, 1, 1, 1, 1, 1, 1, 1, 1, 1, 1, 1, 1, 1, 1, 1, 1, 1, 1, 1, 1, 1, 1, 1, 1, 1, 1, 1, 1, 1, 1, 1, 1, 1, 1, 1, 1, 1, 1, 1, 1, 1, 1, 1, 1, 1, 1, 1, 1, 1, 1, 1, 1, 1, 1, 1, 1, 1, 1, 1, 1, 1, 1, 1, 1, 1, 1, 1, 1, 1, 1, 1, 1, 1, 1, 1, 1, 1, 1, 1, 1, 1, 1, 1, 1, 1, 1, 1, 1, 1, 1, 1, 1, 1, 1, 1, 1, 1, 1, 1, 1, 1, 1, 1, 1, 1, 1, 1, 1, 1, 1, 1, 1, 1, 1, 1, 1, 1, 1, 1, 1, 1, 1, 1, 1, 1, 1, 1, 1, 1, 1, 1, 1, 1, 1, 1, 1, 1, 1, 1, 1, 1, 1, 1, 1, 1, 1, 1, 1, 1, 1, 1, 1, 1, 1, 1, 1, 1, 1, 1, 1, 1, 1, 1, 1, 1, 1, 1, 1, 1, 1, 1, 1, 1, 1, 1, 1, 1, 1, 1, 1, 1, 1, 1, 1, 1, 1, 1, 1, 1, 1, 1, 1, 1, 1, 1, 1, 1, 1, 1, 1, 1, 1, 1, 1, 1, 1, 1, 1, 1, 1, 1, 1, 1, 1, 1, 1, 1, 1, 1, 1, 1, 1, 1, 1, 1, 1, 1, 1, 1, 1, 1, 1, 1, 1, 1, 1, 1, 1, 1, 1, 1, 1, 1, 1, 1, 1, 1, 1, 1, 1, 1, 1, 1, 1, 1, 1, 1, 1, 1, 1, 1, 1, 1, 1, 1, 1, 1, 1, 1, 1, 1, 1, 1, 1, 1, 1, 1, 1, 1, 1, 1, 1, 1, 1, 1, 1, 1, 1, 1, 1, 1, 1, 1, 1, 1, 1, 1, 1, 1, 1, 1, 1, 1, 1, 1, 1, 1, 1, 1, 1, 1, 1, 1, 1, 1, 1, 1, 1, 1, 1, 1, 1, 1, 1, 1, 1, 1, 1, 1, 1, 1, 1, 1, 1, 1, 1, 1, 1, 1, 1, 1, 1, 1, 1, 1, 1, 1, 1, 1, 1, 1, 1, 1, 1, 1, 1, 1, 1, 1, 1, 1, 1, 1, 1, 1, 1, 1, 1, 1, 1, 1, 1, 1, 1, 1, 1, 1, 1, 1, 1, 1, 1, 1, 1, 1, 1, 1, 1, 1, 1, 1, 1, 1, 1, 1, 1, 1, 1, 1, 1, 1, 1, 1, 1, 1, 1, 1, 1, 1, 1, 1, 1, 1, 1, 1], 'attention_mask': [1, 1, 1, 1, 1, 1, 1, 1, 1, 1, 1, 1, 1, 1, 1, 1, 1, 1, 1, 1, 1, 1, 1, 1, 1, 1, 1, 1, 1, 1, 1, 1, 1, 1, 1, 1, 1, 0, 0, 0, 0, 0, 0, 0, 0, 0, 0, 0, 0, 0, 0, 0, 0, 0, 0, 0, 0, 0, 0, 0, 0, 0, 0, 0, 0, 0, 0, 0, 0, 0, 0, 0, 0, 0, 0, 0, 0, 0, 0, 0, 0, 0, 0, 0, 0, 0, 0, 0, 0, 0, 0, 0, 0, 0, 0, 0, 0, 0, 0, 0, 0, 0, 0, 0, 0, 0, 0, 0, 0, 0, 0, 0, 0, 0, 0, 0, 0, 0, 0, 0, 0, 0, 0, 0, 0, 0, 0, 0, 0, 0, 0, 0, 0, 0, 0, 0, 0, 0, 0, 0, 0, 0, 0, 0, 0, 0, 0, 0, 0, 0, 0, 0, 0, 0, 0, 0, 0, 0, 0, 0, 0, 0, 0, 0, 0, 0, 0, 0, 0, 0, 0, 0, 0, 0, 0, 0, 0, 0, 0, 0, 0, 0, 0, 0, 0, 0, 0, 0, 0, 0, 0, 0, 0, 0, 0, 0, 0, 0, 0, 0, 0, 0, 0, 0, 0, 0, 0, 0, 0, 0, 0, 0, 0, 0, 0, 0, 0, 0, 0, 0, 0, 0, 0, 0, 0, 0, 0, 0, 0, 0, 0, 0, 0, 0, 0, 0, 0, 0, 0, 0, 0, 0, 0, 0, 0, 0, 0, 0, 0, 0, 0, 0, 0, 0, 0, 0, 0, 0, 0, 0, 0, 0, 0, 0, 0, 0, 0, 0, 0, 0, 0, 0, 0, 0, 0, 0, 0, 0, 0, 0, 0, 0, 0, 0, 0, 0, 0, 0, 0, 0, 0, 0, 0, 0, 0, 0, 0, 0, 0, 0, 0, 0, 0, 0, 0, 0, 0, 0, 0, 0, 0, 0, 0, 0, 0, 0, 0, 0, 0, 0, 0, 0, 0, 0, 0, 0, 0, 0, 0, 0, 0, 0, 0, 0, 0, 0, 0, 0, 0, 0, 0, 0, 0, 0, 0, 0, 0, 0, 0, 0, 0, 0, 0, 0, 0, 0, 0, 0, 0, 0, 0, 0, 0, 0, 0, 0, 0, 0, 0, 0, 0, 0, 0, 0, 0, 0, 0, 0, 0, 0, 0, 0, 0, 0, 0, 0, 0, 0, 0, 0, 0, 0, 0, 0, 0, 0, 0, 0, 0, 0, 0, 0, 0, 0, 0, 0, 0, 0, 0, 0, 0, 0, 0, 0, 0, 0, 0, 0, 0, 0, 0, 0, 0, 0, 0, 0, 0, 0, 0, 0, 0, 0, 0, 0, 0, 0, 0, 0, 0, 0, 0, 0, 0, 0, 0, 0, 0, 0, 0, 0, 0, 0, 0, 0, 0, 0, 0, 0, 0, 0, 0, 0, 0, 0, 0, 0, 0, 0, 0, 0, 0, 0, 0, 0, 0, 0, 0, 0, 0, 0, 0, 0, 0, 0, 0, 0, 0, 0, 0, 0, 0, 0, 0, 0, 0, 0, 0, 0, 0, 0, 0, 0, 0, 0, 0, 0, 0, 0, 0, 0, 0, 0]}\n"
     ]
    },
    {
     "name": "stderr",
     "output_type": "stream",
     "text": [
      "Some weights of RobertaForSequenceClassification were not initialized from the model checkpoint at roberta-base and are newly initialized: ['classifier.dense.weight', 'classifier.out_proj.weight', 'classifier.out_proj.bias', 'classifier.dense.bias']\n",
      "You should probably TRAIN this model on a down-stream task to be able to use it for predictions and inference.\n"
     ]
    }
   ],
   "source": [
    "# Tokenize\n",
    "tokenizer = AutoTokenizer.from_pretrained(\"roberta-base\")\n",
    "\n",
    "\n",
    "def tokenizer_function(examples):\n",
    "    return tokenizer(examples[\"text\"], padding=\"max_length\", truncation=True)\n",
    "\n",
    "\n",
    "tokenized_dataset = dataset.map(tokenizer_function, batched=True)\n",
    "tokenized_test_dataset = test_dataset.map(tokenizer_function)\n",
    "print(tokenized_dataset[\"train\"][0])\n",
    "\n",
    "model = AutoModelForSequenceClassification.from_pretrained(\"roberta-base\", num_labels=1)\n",
    "\n",
    "training_args = TrainingArguments(\n",
    "    output_dir=\"./results\",\n",
    "    evaluation_strategy=\"epoch\",\n",
    "    save_strategy=\"epoch\",\n",
    "    learning_rate=2e-5,\n",
    "    per_device_train_batch_size=BATCH_SIZE,\n",
    "    per_device_eval_batch_size=BATCH_SIZE,\n",
    "    num_train_epochs=NUM_EPOCHS,\n",
    "    weight_decay=0.01,\n",
    "    logging_steps=10,\n",
    "    logging_first_step=True,\n",
    "    gradient_accumulation_steps=4,\n",
    "    load_best_model_at_end=True,\n",
    ")\n",
    "\n",
    "\n",
    "def compute_metrics(pred):\n",
    "    labels = pred.label_ids\n",
    "    preds = pred.predictions.squeeze()\n",
    "    mse = mean_squared_error(labels, preds)\n",
    "    return {\"mse\": mse}\n",
    "\n",
    "\n",
    "trainer = Trainer(\n",
    "    model=model,\n",
    "    args=training_args,\n",
    "    train_dataset=tokenized_dataset[\"train\"],\n",
    "    eval_dataset=tokenized_dataset[\"validation\"],\n",
    "    tokenizer=tokenizer,\n",
    "    compute_metrics=compute_metrics,\n",
    "    callbacks=[EarlyStoppingCallback(early_stopping_patience=3)],\n",
    ")"
   ]
  },
  {
   "cell_type": "code",
   "execution_count": 16,
   "id": "9862beb8",
   "metadata": {},
   "outputs": [
    {
     "data": {
      "application/vnd.jupyter.widget-view+json": {
       "model_id": "5cf714f461e847448e5a2d963cd88a55",
       "version_major": 2,
       "version_minor": 0
      },
      "text/plain": [
       "  0%|          | 0/7030 [00:00<?, ?it/s]"
      ]
     },
     "metadata": {},
     "output_type": "display_data"
    },
    {
     "name": "stderr",
     "output_type": "stream",
     "text": [
      "You're using a RobertaTokenizerFast tokenizer. Please note that with a fast tokenizer, using the `__call__` method is faster than using a method to encode the text followed by a call to the `pad` method to get a padded encoding.\n"
     ]
    },
    {
     "name": "stdout",
     "output_type": "stream",
     "text": [
      "{'loss': 44.9809, 'learning_rate': 1.999715504978663e-05, 'epoch': 0.0}\n",
      "{'loss': 29.3147, 'learning_rate': 1.997155049786629e-05, 'epoch': 0.01}\n",
      "{'loss': 16.1213, 'learning_rate': 1.9943100995732575e-05, 'epoch': 0.03}\n",
      "{'loss': 11.4306, 'learning_rate': 1.9914651493598865e-05, 'epoch': 0.04}\n",
      "{'loss': 10.072, 'learning_rate': 1.9886201991465152e-05, 'epoch': 0.06}\n",
      "{'loss': 10.9514, 'learning_rate': 1.985775248933144e-05, 'epoch': 0.07}\n",
      "{'loss': 10.5677, 'learning_rate': 1.9829302987197725e-05, 'epoch': 0.09}\n",
      "{'loss': 7.5098, 'learning_rate': 1.9800853485064012e-05, 'epoch': 0.1}\n",
      "{'loss': 4.3041, 'learning_rate': 1.97724039829303e-05, 'epoch': 0.11}\n",
      "{'loss': 4.5812, 'learning_rate': 1.974395448079659e-05, 'epoch': 0.13}\n",
      "{'loss': 4.2453, 'learning_rate': 1.9715504978662876e-05, 'epoch': 0.14}\n",
      "{'loss': 3.912, 'learning_rate': 1.9687055476529162e-05, 'epoch': 0.16}\n",
      "{'loss': 3.2101, 'learning_rate': 1.965860597439545e-05, 'epoch': 0.17}\n",
      "{'loss': 3.8125, 'learning_rate': 1.9630156472261736e-05, 'epoch': 0.18}\n",
      "{'loss': 3.9706, 'learning_rate': 1.9601706970128026e-05, 'epoch': 0.2}\n",
      "{'loss': 2.6588, 'learning_rate': 1.957325746799431e-05, 'epoch': 0.21}\n",
      "{'loss': 2.3163, 'learning_rate': 1.95448079658606e-05, 'epoch': 0.23}\n",
      "{'loss': 3.4145, 'learning_rate': 1.9516358463726886e-05, 'epoch': 0.24}\n",
      "{'loss': 2.5425, 'learning_rate': 1.9487908961593173e-05, 'epoch': 0.26}\n",
      "{'loss': 2.9846, 'learning_rate': 1.9459459459459463e-05, 'epoch': 0.27}\n",
      "{'loss': 1.8983, 'learning_rate': 1.943100995732575e-05, 'epoch': 0.28}\n",
      "{'loss': 1.9834, 'learning_rate': 1.9402560455192037e-05, 'epoch': 0.3}\n",
      "{'loss': 1.837, 'learning_rate': 1.9374110953058323e-05, 'epoch': 0.31}\n",
      "{'loss': 1.9645, 'learning_rate': 1.934566145092461e-05, 'epoch': 0.33}\n",
      "{'loss': 2.0193, 'learning_rate': 1.9317211948790897e-05, 'epoch': 0.34}\n",
      "{'loss': 2.1528, 'learning_rate': 1.9288762446657187e-05, 'epoch': 0.36}\n",
      "{'loss': 1.3902, 'learning_rate': 1.926031294452347e-05, 'epoch': 0.37}\n",
      "{'loss': 1.4698, 'learning_rate': 1.923186344238976e-05, 'epoch': 0.38}\n",
      "{'loss': 2.3793, 'learning_rate': 1.9203413940256047e-05, 'epoch': 0.4}\n",
      "{'loss': 1.6278, 'learning_rate': 1.9174964438122334e-05, 'epoch': 0.41}\n",
      "{'loss': 1.4842, 'learning_rate': 1.9146514935988624e-05, 'epoch': 0.43}\n",
      "{'loss': 1.1303, 'learning_rate': 1.9118065433854907e-05, 'epoch': 0.44}\n",
      "{'loss': 2.202, 'learning_rate': 1.9089615931721197e-05, 'epoch': 0.46}\n",
      "{'loss': 1.3172, 'learning_rate': 1.9061166429587484e-05, 'epoch': 0.47}\n",
      "{'loss': 1.2588, 'learning_rate': 1.903271692745377e-05, 'epoch': 0.48}\n",
      "{'loss': 0.8849, 'learning_rate': 1.9004267425320058e-05, 'epoch': 0.5}\n",
      "{'loss': 1.6583, 'learning_rate': 1.8975817923186348e-05, 'epoch': 0.51}\n",
      "{'loss': 1.3549, 'learning_rate': 1.894736842105263e-05, 'epoch': 0.53}\n",
      "{'loss': 1.3771, 'learning_rate': 1.891891891891892e-05, 'epoch': 0.54}\n",
      "{'loss': 1.2403, 'learning_rate': 1.8890469416785208e-05, 'epoch': 0.55}\n",
      "{'loss': 1.3391, 'learning_rate': 1.8862019914651495e-05, 'epoch': 0.57}\n",
      "{'loss': 2.5475, 'learning_rate': 1.8833570412517785e-05, 'epoch': 0.58}\n",
      "{'loss': 1.4027, 'learning_rate': 1.8805120910384068e-05, 'epoch': 0.6}\n",
      "{'loss': 1.7524, 'learning_rate': 1.8776671408250358e-05, 'epoch': 0.61}\n",
      "{'loss': 1.4661, 'learning_rate': 1.8748221906116645e-05, 'epoch': 0.63}\n",
      "{'loss': 1.1313, 'learning_rate': 1.871977240398293e-05, 'epoch': 0.64}\n",
      "{'loss': 1.3503, 'learning_rate': 1.869132290184922e-05, 'epoch': 0.65}\n",
      "{'loss': 1.4189, 'learning_rate': 1.8662873399715505e-05, 'epoch': 0.67}\n",
      "{'loss': 0.9735, 'learning_rate': 1.8634423897581795e-05, 'epoch': 0.68}\n",
      "{'loss': 1.5821, 'learning_rate': 1.8605974395448082e-05, 'epoch': 0.7}\n",
      "{'loss': 1.5532, 'learning_rate': 1.857752489331437e-05, 'epoch': 0.71}\n",
      "{'loss': 0.9661, 'learning_rate': 1.8549075391180655e-05, 'epoch': 0.73}\n",
      "{'loss': 1.3799, 'learning_rate': 1.8520625889046942e-05, 'epoch': 0.74}\n",
      "{'loss': 1.5367, 'learning_rate': 1.849217638691323e-05, 'epoch': 0.75}\n",
      "{'loss': 1.1298, 'learning_rate': 1.846372688477952e-05, 'epoch': 0.77}\n",
      "{'loss': 1.4135, 'learning_rate': 1.8435277382645806e-05, 'epoch': 0.78}\n",
      "{'loss': 2.4168, 'learning_rate': 1.8406827880512092e-05, 'epoch': 0.8}\n",
      "{'loss': 1.2401, 'learning_rate': 1.8378378378378383e-05, 'epoch': 0.81}\n",
      "{'loss': 1.269, 'learning_rate': 1.8349928876244666e-05, 'epoch': 0.82}\n",
      "{'loss': 1.7707, 'learning_rate': 1.8321479374110956e-05, 'epoch': 0.84}\n",
      "{'loss': 1.6311, 'learning_rate': 1.8293029871977243e-05, 'epoch': 0.85}\n",
      "{'loss': 1.005, 'learning_rate': 1.826458036984353e-05, 'epoch': 0.87}\n",
      "{'loss': 1.2103, 'learning_rate': 1.8236130867709816e-05, 'epoch': 0.88}\n",
      "{'loss': 0.8299, 'learning_rate': 1.8207681365576103e-05, 'epoch': 0.9}\n",
      "{'loss': 1.5962, 'learning_rate': 1.817923186344239e-05, 'epoch': 0.91}\n",
      "{'loss': 1.319, 'learning_rate': 1.815078236130868e-05, 'epoch': 0.92}\n",
      "{'loss': 1.0494, 'learning_rate': 1.8122332859174966e-05, 'epoch': 0.94}\n",
      "{'loss': 1.1992, 'learning_rate': 1.8093883357041253e-05, 'epoch': 0.95}\n",
      "{'loss': 1.7067, 'learning_rate': 1.806543385490754e-05, 'epoch': 0.97}\n",
      "{'loss': 0.7449, 'learning_rate': 1.8036984352773827e-05, 'epoch': 0.98}\n",
      "{'loss': 1.3565, 'learning_rate': 1.8008534850640117e-05, 'epoch': 1.0}\n"
     ]
    },
    {
     "data": {
      "application/vnd.jupyter.widget-view+json": {
       "model_id": "2c8824898fb8497ba83f6fe7b0b7fd77",
       "version_major": 2,
       "version_minor": 0
      },
      "text/plain": [
       "  0%|          | 0/313 [00:00<?, ?it/s]"
      ]
     },
     "metadata": {},
     "output_type": "display_data"
    },
    {
     "name": "stdout",
     "output_type": "stream",
     "text": [
      "{'eval_loss': 0.9705937504768372, 'eval_mse': 0.9705937504768372, 'eval_runtime': 6.2099, 'eval_samples_per_second': 201.292, 'eval_steps_per_second': 50.404, 'epoch': 1.0}\n",
      "{'loss': 1.0648, 'learning_rate': 1.7980085348506404e-05, 'epoch': 1.01}\n",
      "{'loss': 1.3022, 'learning_rate': 1.795163584637269e-05, 'epoch': 1.02}\n",
      "{'loss': 0.8315, 'learning_rate': 1.7923186344238977e-05, 'epoch': 1.04}\n",
      "{'loss': 0.7366, 'learning_rate': 1.7894736842105264e-05, 'epoch': 1.05}\n",
      "{'loss': 0.733, 'learning_rate': 1.7866287339971554e-05, 'epoch': 1.07}\n",
      "{'loss': 0.9304, 'learning_rate': 1.783783783783784e-05, 'epoch': 1.08}\n",
      "{'loss': 0.7479, 'learning_rate': 1.7809388335704127e-05, 'epoch': 1.09}\n",
      "{'loss': 0.7796, 'learning_rate': 1.7780938833570414e-05, 'epoch': 1.11}\n",
      "{'loss': 0.748, 'learning_rate': 1.77524893314367e-05, 'epoch': 1.12}\n",
      "{'loss': 0.8372, 'learning_rate': 1.7724039829302988e-05, 'epoch': 1.14}\n",
      "{'loss': 0.8044, 'learning_rate': 1.7695590327169278e-05, 'epoch': 1.15}\n",
      "{'loss': 0.7121, 'learning_rate': 1.766714082503556e-05, 'epoch': 1.17}\n",
      "{'loss': 1.2152, 'learning_rate': 1.763869132290185e-05, 'epoch': 1.18}\n",
      "{'loss': 0.582, 'learning_rate': 1.7610241820768138e-05, 'epoch': 1.19}\n",
      "{'loss': 0.7184, 'learning_rate': 1.7581792318634425e-05, 'epoch': 1.21}\n",
      "{'loss': 0.7678, 'learning_rate': 1.7553342816500715e-05, 'epoch': 1.22}\n",
      "{'loss': 1.0693, 'learning_rate': 1.7524893314367e-05, 'epoch': 1.24}\n",
      "{'loss': 1.0197, 'learning_rate': 1.7496443812233288e-05, 'epoch': 1.25}\n",
      "{'loss': 0.5281, 'learning_rate': 1.7467994310099575e-05, 'epoch': 1.27}\n",
      "{'loss': 1.0349, 'learning_rate': 1.743954480796586e-05, 'epoch': 1.28}\n",
      "{'loss': 0.8483, 'learning_rate': 1.741109530583215e-05, 'epoch': 1.29}\n",
      "{'loss': 0.8081, 'learning_rate': 1.738264580369844e-05, 'epoch': 1.31}\n",
      "{'loss': 0.5425, 'learning_rate': 1.7354196301564722e-05, 'epoch': 1.32}\n",
      "{'loss': 1.1729, 'learning_rate': 1.7325746799431012e-05, 'epoch': 1.34}\n",
      "{'loss': 0.6617, 'learning_rate': 1.72972972972973e-05, 'epoch': 1.35}\n",
      "{'loss': 0.9028, 'learning_rate': 1.7268847795163585e-05, 'epoch': 1.37}\n",
      "{'loss': 0.7925, 'learning_rate': 1.7240398293029875e-05, 'epoch': 1.38}\n",
      "{'loss': 0.9052, 'learning_rate': 1.721194879089616e-05, 'epoch': 1.39}\n",
      "{'loss': 0.4896, 'learning_rate': 1.718349928876245e-05, 'epoch': 1.41}\n",
      "{'loss': 0.8469, 'learning_rate': 1.7155049786628736e-05, 'epoch': 1.42}\n",
      "{'loss': 0.9408, 'learning_rate': 1.7126600284495022e-05, 'epoch': 1.44}\n",
      "{'loss': 0.4761, 'learning_rate': 1.709815078236131e-05, 'epoch': 1.45}\n",
      "{'loss': 1.0569, 'learning_rate': 1.7069701280227596e-05, 'epoch': 1.46}\n",
      "{'loss': 0.8976, 'learning_rate': 1.7041251778093886e-05, 'epoch': 1.48}\n",
      "{'loss': 0.6954, 'learning_rate': 1.7012802275960173e-05, 'epoch': 1.49}\n",
      "{'loss': 0.9506, 'learning_rate': 1.698435277382646e-05, 'epoch': 1.51}\n",
      "{'loss': 0.8971, 'learning_rate': 1.6955903271692746e-05, 'epoch': 1.52}\n",
      "{'loss': 0.7914, 'learning_rate': 1.6927453769559036e-05, 'epoch': 1.54}\n",
      "{'loss': 0.8075, 'learning_rate': 1.689900426742532e-05, 'epoch': 1.55}\n",
      "{'loss': 0.4554, 'learning_rate': 1.687055476529161e-05, 'epoch': 1.56}\n",
      "{'loss': 0.9752, 'learning_rate': 1.6842105263157896e-05, 'epoch': 1.58}\n",
      "{'loss': 0.8769, 'learning_rate': 1.6813655761024183e-05, 'epoch': 1.59}\n",
      "{'loss': 0.4822, 'learning_rate': 1.6785206258890473e-05, 'epoch': 1.61}\n",
      "{'loss': 0.7362, 'learning_rate': 1.6756756756756757e-05, 'epoch': 1.62}\n",
      "{'loss': 0.7135, 'learning_rate': 1.6728307254623047e-05, 'epoch': 1.64}\n",
      "{'loss': 0.8017, 'learning_rate': 1.6699857752489334e-05, 'epoch': 1.65}\n",
      "{'loss': 1.3537, 'learning_rate': 1.667140825035562e-05, 'epoch': 1.66}\n",
      "{'loss': 0.4731, 'learning_rate': 1.6642958748221907e-05, 'epoch': 1.68}\n",
      "{'loss': 0.6224, 'learning_rate': 1.6614509246088194e-05, 'epoch': 1.69}\n",
      "{'loss': 0.6411, 'learning_rate': 1.658605974395448e-05, 'epoch': 1.71}\n",
      "{'loss': 0.8361, 'learning_rate': 1.655761024182077e-05, 'epoch': 1.72}\n",
      "{'loss': 0.6818, 'learning_rate': 1.6529160739687057e-05, 'epoch': 1.73}\n",
      "{'loss': 0.6589, 'learning_rate': 1.6500711237553344e-05, 'epoch': 1.75}\n",
      "{'loss': 0.5407, 'learning_rate': 1.647226173541963e-05, 'epoch': 1.76}\n",
      "{'loss': 0.6768, 'learning_rate': 1.6443812233285917e-05, 'epoch': 1.78}\n",
      "{'loss': 0.561, 'learning_rate': 1.6415362731152208e-05, 'epoch': 1.79}\n",
      "{'loss': 0.8612, 'learning_rate': 1.6386913229018494e-05, 'epoch': 1.81}\n",
      "{'loss': 0.7053, 'learning_rate': 1.635846372688478e-05, 'epoch': 1.82}\n",
      "{'loss': 0.7394, 'learning_rate': 1.6330014224751068e-05, 'epoch': 1.83}\n",
      "{'loss': 0.4884, 'learning_rate': 1.6301564722617355e-05, 'epoch': 1.85}\n",
      "{'loss': 0.7358, 'learning_rate': 1.627311522048364e-05, 'epoch': 1.86}\n",
      "{'loss': 0.481, 'learning_rate': 1.624466571834993e-05, 'epoch': 1.88}\n",
      "{'loss': 0.8148, 'learning_rate': 1.6216216216216218e-05, 'epoch': 1.89}\n",
      "{'loss': 0.7298, 'learning_rate': 1.6187766714082505e-05, 'epoch': 1.91}\n",
      "{'loss': 0.4304, 'learning_rate': 1.615931721194879e-05, 'epoch': 1.92}\n",
      "{'loss': 0.675, 'learning_rate': 1.6130867709815078e-05, 'epoch': 1.93}\n",
      "{'loss': 0.4356, 'learning_rate': 1.610241820768137e-05, 'epoch': 1.95}\n",
      "{'loss': 0.6328, 'learning_rate': 1.6073968705547652e-05, 'epoch': 1.96}\n",
      "{'loss': 0.7098, 'learning_rate': 1.6045519203413942e-05, 'epoch': 1.98}\n",
      "{'loss': 0.399, 'learning_rate': 1.601706970128023e-05, 'epoch': 1.99}\n"
     ]
    },
    {
     "data": {
      "application/vnd.jupyter.widget-view+json": {
       "model_id": "0c3364160fe14a1fb3b38a4f777095cb",
       "version_major": 2,
       "version_minor": 0
      },
      "text/plain": [
       "  0%|          | 0/313 [00:00<?, ?it/s]"
      ]
     },
     "metadata": {},
     "output_type": "display_data"
    },
    {
     "name": "stdout",
     "output_type": "stream",
     "text": [
      "{'eval_loss': 1.2482601404190063, 'eval_mse': 1.2482601404190063, 'eval_runtime': 6.1496, 'eval_samples_per_second': 203.267, 'eval_steps_per_second': 50.898, 'epoch': 2.0}\n",
      "{'loss': 0.9289, 'learning_rate': 1.5988620199146515e-05, 'epoch': 2.0}\n",
      "{'loss': 0.5855, 'learning_rate': 1.5960170697012805e-05, 'epoch': 2.02}\n",
      "{'loss': 0.5798, 'learning_rate': 1.5931721194879092e-05, 'epoch': 2.03}\n",
      "{'loss': 0.3549, 'learning_rate': 1.590327169274538e-05, 'epoch': 2.05}\n",
      "{'loss': 0.6628, 'learning_rate': 1.5874822190611666e-05, 'epoch': 2.06}\n",
      "{'loss': 0.4725, 'learning_rate': 1.5846372688477952e-05, 'epoch': 2.08}\n",
      "{'loss': 0.4819, 'learning_rate': 1.581792318634424e-05, 'epoch': 2.09}\n",
      "{'loss': 0.4643, 'learning_rate': 1.578947368421053e-05, 'epoch': 2.1}\n",
      "{'loss': 0.7758, 'learning_rate': 1.5761024182076813e-05, 'epoch': 2.12}\n",
      "{'loss': 0.4207, 'learning_rate': 1.5732574679943103e-05, 'epoch': 2.13}\n",
      "{'loss': 0.518, 'learning_rate': 1.570412517780939e-05, 'epoch': 2.15}\n",
      "{'loss': 0.5543, 'learning_rate': 1.5675675675675676e-05, 'epoch': 2.16}\n",
      "{'loss': 0.5941, 'learning_rate': 1.5647226173541966e-05, 'epoch': 2.18}\n",
      "{'loss': 0.645, 'learning_rate': 1.561877667140825e-05, 'epoch': 2.19}\n",
      "{'loss': 0.5085, 'learning_rate': 1.559032716927454e-05, 'epoch': 2.2}\n",
      "{'loss': 0.4874, 'learning_rate': 1.5561877667140826e-05, 'epoch': 2.22}\n",
      "{'loss': 0.5105, 'learning_rate': 1.5533428165007113e-05, 'epoch': 2.23}\n",
      "{'loss': 0.3483, 'learning_rate': 1.55049786628734e-05, 'epoch': 2.25}\n",
      "{'loss': 0.3845, 'learning_rate': 1.547652916073969e-05, 'epoch': 2.26}\n",
      "{'loss': 0.5075, 'learning_rate': 1.5448079658605977e-05, 'epoch': 2.28}\n",
      "{'loss': 0.4366, 'learning_rate': 1.5419630156472263e-05, 'epoch': 2.29}\n",
      "{'loss': 0.4856, 'learning_rate': 1.539118065433855e-05, 'epoch': 2.3}\n",
      "{'loss': 0.598, 'learning_rate': 1.5362731152204837e-05, 'epoch': 2.32}\n",
      "{'loss': 0.3863, 'learning_rate': 1.5334281650071127e-05, 'epoch': 2.33}\n",
      "{'loss': 0.3875, 'learning_rate': 1.530583214793741e-05, 'epoch': 2.35}\n",
      "{'loss': 0.3593, 'learning_rate': 1.52773826458037e-05, 'epoch': 2.36}\n",
      "{'loss': 0.4343, 'learning_rate': 1.5248933143669986e-05, 'epoch': 2.37}\n",
      "{'loss': 0.4149, 'learning_rate': 1.5220483641536274e-05, 'epoch': 2.39}\n",
      "{'loss': 0.2875, 'learning_rate': 1.5192034139402562e-05, 'epoch': 2.4}\n",
      "{'loss': 0.3267, 'learning_rate': 1.5163584637268849e-05, 'epoch': 2.42}\n",
      "{'loss': 0.408, 'learning_rate': 1.5135135135135138e-05, 'epoch': 2.43}\n",
      "{'loss': 0.6194, 'learning_rate': 1.5106685633001423e-05, 'epoch': 2.45}\n",
      "{'loss': 0.3274, 'learning_rate': 1.5078236130867711e-05, 'epoch': 2.46}\n",
      "{'loss': 0.4175, 'learning_rate': 1.5049786628733998e-05, 'epoch': 2.47}\n",
      "{'loss': 0.3937, 'learning_rate': 1.5021337126600286e-05, 'epoch': 2.49}\n",
      "{'loss': 0.2936, 'learning_rate': 1.4992887624466573e-05, 'epoch': 2.5}\n",
      "{'loss': 0.6065, 'learning_rate': 1.4964438122332861e-05, 'epoch': 2.52}\n",
      "{'loss': 0.3929, 'learning_rate': 1.4935988620199146e-05, 'epoch': 2.53}\n",
      "{'loss': 0.5351, 'learning_rate': 1.4907539118065435e-05, 'epoch': 2.55}\n",
      "{'loss': 0.4612, 'learning_rate': 1.4879089615931723e-05, 'epoch': 2.56}\n",
      "{'loss': 0.6466, 'learning_rate': 1.485064011379801e-05, 'epoch': 2.57}\n",
      "{'loss': 0.363, 'learning_rate': 1.4822190611664298e-05, 'epoch': 2.59}\n",
      "{'loss': 0.4416, 'learning_rate': 1.4793741109530583e-05, 'epoch': 2.6}\n",
      "{'loss': 0.4074, 'learning_rate': 1.4765291607396872e-05, 'epoch': 2.62}\n",
      "{'loss': 0.3302, 'learning_rate': 1.4736842105263159e-05, 'epoch': 2.63}\n",
      "{'loss': 0.6838, 'learning_rate': 1.4708392603129447e-05, 'epoch': 2.64}\n",
      "{'loss': 0.3959, 'learning_rate': 1.4679943100995732e-05, 'epoch': 2.66}\n",
      "{'loss': 0.4132, 'learning_rate': 1.465149359886202e-05, 'epoch': 2.67}\n",
      "{'loss': 0.4054, 'learning_rate': 1.4623044096728309e-05, 'epoch': 2.69}\n",
      "{'loss': 0.4467, 'learning_rate': 1.4594594594594596e-05, 'epoch': 2.7}\n",
      "{'loss': 0.35, 'learning_rate': 1.4566145092460884e-05, 'epoch': 2.72}\n",
      "{'loss': 0.3431, 'learning_rate': 1.453769559032717e-05, 'epoch': 2.73}\n",
      "{'loss': 0.3986, 'learning_rate': 1.4509246088193457e-05, 'epoch': 2.74}\n",
      "{'loss': 0.5448, 'learning_rate': 1.4480796586059744e-05, 'epoch': 2.76}\n",
      "{'loss': 0.4937, 'learning_rate': 1.4452347083926033e-05, 'epoch': 2.77}\n",
      "{'loss': 1.0175, 'learning_rate': 1.442389758179232e-05, 'epoch': 2.79}\n",
      "{'loss': 0.4536, 'learning_rate': 1.4395448079658608e-05, 'epoch': 2.8}\n",
      "{'loss': 0.394, 'learning_rate': 1.4366998577524896e-05, 'epoch': 2.82}\n",
      "{'loss': 0.661, 'learning_rate': 1.4338549075391181e-05, 'epoch': 2.83}\n",
      "{'loss': 0.6098, 'learning_rate': 1.431009957325747e-05, 'epoch': 2.84}\n",
      "{'loss': 0.7335, 'learning_rate': 1.4281650071123756e-05, 'epoch': 2.86}\n",
      "{'loss': 0.5107, 'learning_rate': 1.4253200568990045e-05, 'epoch': 2.87}\n",
      "{'loss': 0.3803, 'learning_rate': 1.422475106685633e-05, 'epoch': 2.89}\n",
      "{'loss': 0.3994, 'learning_rate': 1.4196301564722618e-05, 'epoch': 2.9}\n",
      "{'loss': 0.3744, 'learning_rate': 1.4167852062588905e-05, 'epoch': 2.92}\n",
      "{'loss': 0.9492, 'learning_rate': 1.4139402560455193e-05, 'epoch': 2.93}\n",
      "{'loss': 0.3242, 'learning_rate': 1.4110953058321482e-05, 'epoch': 2.94}\n",
      "{'loss': 0.5026, 'learning_rate': 1.4082503556187767e-05, 'epoch': 2.96}\n",
      "{'loss': 0.2976, 'learning_rate': 1.4054054054054055e-05, 'epoch': 2.97}\n",
      "{'loss': 0.4417, 'learning_rate': 1.4025604551920342e-05, 'epoch': 2.99}\n"
     ]
    },
    {
     "data": {
      "application/vnd.jupyter.widget-view+json": {
       "model_id": "dfa2d1c6f1624206be8fbd226cc58fff",
       "version_major": 2,
       "version_minor": 0
      },
      "text/plain": [
       "  0%|          | 0/313 [00:00<?, ?it/s]"
      ]
     },
     "metadata": {},
     "output_type": "display_data"
    },
    {
     "name": "stdout",
     "output_type": "stream",
     "text": [
      "{'eval_loss': 0.9230279326438904, 'eval_mse': 0.9230280518531799, 'eval_runtime': 6.3944, 'eval_samples_per_second': 195.484, 'eval_steps_per_second': 48.949, 'epoch': 3.0}\n",
      "{'loss': 0.6261, 'learning_rate': 1.399715504978663e-05, 'epoch': 3.0}\n",
      "{'loss': 0.3093, 'learning_rate': 1.3968705547652917e-05, 'epoch': 3.01}\n",
      "{'loss': 0.3707, 'learning_rate': 1.3940256045519206e-05, 'epoch': 3.03}\n",
      "{'loss': 0.2882, 'learning_rate': 1.391180654338549e-05, 'epoch': 3.04}\n",
      "{'loss': 0.3711, 'learning_rate': 1.3883357041251779e-05, 'epoch': 3.06}\n",
      "{'loss': 0.2187, 'learning_rate': 1.3854907539118068e-05, 'epoch': 3.07}\n",
      "{'loss': 0.2688, 'learning_rate': 1.3826458036984354e-05, 'epoch': 3.09}\n",
      "{'loss': 0.2638, 'learning_rate': 1.3798008534850643e-05, 'epoch': 3.1}\n",
      "{'loss': 0.349, 'learning_rate': 1.3769559032716928e-05, 'epoch': 3.11}\n",
      "{'loss': 0.3582, 'learning_rate': 1.3741109530583216e-05, 'epoch': 3.13}\n",
      "{'loss': 0.3476, 'learning_rate': 1.3712660028449503e-05, 'epoch': 3.14}\n",
      "{'loss': 0.3637, 'learning_rate': 1.3684210526315791e-05, 'epoch': 3.16}\n",
      "{'loss': 0.2972, 'learning_rate': 1.3655761024182076e-05, 'epoch': 3.17}\n",
      "{'loss': 0.3591, 'learning_rate': 1.3627311522048365e-05, 'epoch': 3.19}\n",
      "{'loss': 0.3239, 'learning_rate': 1.3598862019914653e-05, 'epoch': 3.2}\n",
      "{'loss': 0.3892, 'learning_rate': 1.357041251778094e-05, 'epoch': 3.21}\n",
      "{'loss': 0.5422, 'learning_rate': 1.3541963015647228e-05, 'epoch': 3.23}\n",
      "{'loss': 0.3305, 'learning_rate': 1.3513513513513515e-05, 'epoch': 3.24}\n",
      "{'loss': 0.4473, 'learning_rate': 1.3485064011379802e-05, 'epoch': 3.26}\n",
      "{'loss': 0.3054, 'learning_rate': 1.3456614509246089e-05, 'epoch': 3.27}\n",
      "{'loss': 0.2909, 'learning_rate': 1.3428165007112377e-05, 'epoch': 3.28}\n",
      "{'loss': 0.3785, 'learning_rate': 1.3399715504978664e-05, 'epoch': 3.3}\n",
      "{'loss': 0.3386, 'learning_rate': 1.3371266002844952e-05, 'epoch': 3.31}\n",
      "{'loss': 0.4075, 'learning_rate': 1.3342816500711237e-05, 'epoch': 3.33}\n",
      "{'loss': 0.2849, 'learning_rate': 1.3314366998577526e-05, 'epoch': 3.34}\n",
      "{'loss': 0.2129, 'learning_rate': 1.3285917496443814e-05, 'epoch': 3.36}\n",
      "{'loss': 0.2753, 'learning_rate': 1.32574679943101e-05, 'epoch': 3.37}\n",
      "{'loss': 0.3218, 'learning_rate': 1.322901849217639e-05, 'epoch': 3.38}\n",
      "{'loss': 0.2419, 'learning_rate': 1.3200568990042674e-05, 'epoch': 3.4}\n",
      "{'loss': 0.3893, 'learning_rate': 1.3172119487908963e-05, 'epoch': 3.41}\n",
      "{'loss': 0.2669, 'learning_rate': 1.314366998577525e-05, 'epoch': 3.43}\n",
      "{'loss': 0.2882, 'learning_rate': 1.3115220483641538e-05, 'epoch': 3.44}\n",
      "{'loss': 0.4422, 'learning_rate': 1.3086770981507825e-05, 'epoch': 3.46}\n",
      "{'loss': 0.4211, 'learning_rate': 1.3058321479374111e-05, 'epoch': 3.47}\n",
      "{'loss': 0.3792, 'learning_rate': 1.30298719772404e-05, 'epoch': 3.48}\n",
      "{'loss': 0.4501, 'learning_rate': 1.3001422475106686e-05, 'epoch': 3.5}\n",
      "{'loss': 0.2837, 'learning_rate': 1.2972972972972975e-05, 'epoch': 3.51}\n",
      "{'loss': 0.3305, 'learning_rate': 1.2944523470839262e-05, 'epoch': 3.53}\n",
      "{'loss': 0.3057, 'learning_rate': 1.291607396870555e-05, 'epoch': 3.54}\n",
      "{'loss': 0.3011, 'learning_rate': 1.2887624466571835e-05, 'epoch': 3.55}\n",
      "{'loss': 0.2641, 'learning_rate': 1.2859174964438123e-05, 'epoch': 3.57}\n",
      "{'loss': 0.2284, 'learning_rate': 1.283072546230441e-05, 'epoch': 3.58}\n",
      "{'loss': 0.4166, 'learning_rate': 1.2802275960170699e-05, 'epoch': 3.6}\n",
      "{'loss': 0.4964, 'learning_rate': 1.2773826458036987e-05, 'epoch': 3.61}\n",
      "{'loss': 0.372, 'learning_rate': 1.2745376955903272e-05, 'epoch': 3.63}\n",
      "{'loss': 0.8344, 'learning_rate': 1.271692745376956e-05, 'epoch': 3.64}\n",
      "{'loss': 0.2559, 'learning_rate': 1.2688477951635847e-05, 'epoch': 3.65}\n",
      "{'loss': 0.3967, 'learning_rate': 1.2660028449502136e-05, 'epoch': 3.67}\n",
      "{'loss': 0.3078, 'learning_rate': 1.263157894736842e-05, 'epoch': 3.68}\n",
      "{'loss': 0.3217, 'learning_rate': 1.2603129445234709e-05, 'epoch': 3.7}\n",
      "{'loss': 0.2802, 'learning_rate': 1.2574679943100996e-05, 'epoch': 3.71}\n",
      "{'loss': 0.3695, 'learning_rate': 1.2546230440967284e-05, 'epoch': 3.73}\n",
      "{'loss': 0.265, 'learning_rate': 1.2517780938833573e-05, 'epoch': 3.74}\n",
      "{'loss': 0.3392, 'learning_rate': 1.248933143669986e-05, 'epoch': 3.75}\n",
      "{'loss': 0.3824, 'learning_rate': 1.2460881934566146e-05, 'epoch': 3.77}\n",
      "{'loss': 0.3244, 'learning_rate': 1.2432432432432433e-05, 'epoch': 3.78}\n",
      "{'loss': 0.2795, 'learning_rate': 1.2403982930298721e-05, 'epoch': 3.8}\n",
      "{'loss': 0.3673, 'learning_rate': 1.2375533428165008e-05, 'epoch': 3.81}\n",
      "{'loss': 0.2975, 'learning_rate': 1.2347083926031296e-05, 'epoch': 3.83}\n",
      "{'loss': 0.2471, 'learning_rate': 1.2318634423897581e-05, 'epoch': 3.84}\n",
      "{'loss': 0.2843, 'learning_rate': 1.229018492176387e-05, 'epoch': 3.85}\n",
      "{'loss': 0.2879, 'learning_rate': 1.2261735419630158e-05, 'epoch': 3.87}\n",
      "{'loss': 0.3199, 'learning_rate': 1.2233285917496445e-05, 'epoch': 3.88}\n",
      "{'loss': 0.3546, 'learning_rate': 1.2204836415362733e-05, 'epoch': 3.9}\n",
      "{'loss': 0.3506, 'learning_rate': 1.2176386913229019e-05, 'epoch': 3.91}\n",
      "{'loss': 0.3139, 'learning_rate': 1.2147937411095307e-05, 'epoch': 3.92}\n",
      "{'loss': 0.3369, 'learning_rate': 1.2119487908961594e-05, 'epoch': 3.94}\n",
      "{'loss': 0.2785, 'learning_rate': 1.2091038406827882e-05, 'epoch': 3.95}\n",
      "{'loss': 0.3499, 'learning_rate': 1.2062588904694169e-05, 'epoch': 3.97}\n",
      "{'loss': 0.2961, 'learning_rate': 1.2034139402560456e-05, 'epoch': 3.98}\n",
      "{'loss': 0.3592, 'learning_rate': 1.2005689900426742e-05, 'epoch': 4.0}\n"
     ]
    },
    {
     "data": {
      "application/vnd.jupyter.widget-view+json": {
       "model_id": "bab81e4592aa40b89a15c01e51125416",
       "version_major": 2,
       "version_minor": 0
      },
      "text/plain": [
       "  0%|          | 0/313 [00:00<?, ?it/s]"
      ]
     },
     "metadata": {},
     "output_type": "display_data"
    },
    {
     "name": "stdout",
     "output_type": "stream",
     "text": [
      "{'eval_loss': 0.6894272565841675, 'eval_mse': 0.6894272565841675, 'eval_runtime': 6.3453, 'eval_samples_per_second': 196.996, 'eval_steps_per_second': 49.328, 'epoch': 4.0}\n",
      "{'loss': 0.4294, 'learning_rate': 1.197724039829303e-05, 'epoch': 4.01}\n",
      "{'loss': 0.2225, 'learning_rate': 1.1948790896159319e-05, 'epoch': 4.02}\n",
      "{'loss': 0.3143, 'learning_rate': 1.1920341394025606e-05, 'epoch': 4.04}\n",
      "{'loss': 0.2133, 'learning_rate': 1.1891891891891894e-05, 'epoch': 4.05}\n",
      "{'loss': 0.2305, 'learning_rate': 1.186344238975818e-05, 'epoch': 4.07}\n",
      "{'loss': 0.2308, 'learning_rate': 1.1834992887624468e-05, 'epoch': 4.08}\n",
      "{'loss': 0.5113, 'learning_rate': 1.1806543385490754e-05, 'epoch': 4.1}\n",
      "{'loss': 0.2276, 'learning_rate': 1.1778093883357043e-05, 'epoch': 4.11}\n",
      "{'loss': 0.2265, 'learning_rate': 1.1749644381223328e-05, 'epoch': 4.12}\n",
      "{'loss': 0.3146, 'learning_rate': 1.1721194879089616e-05, 'epoch': 4.14}\n",
      "{'loss': 0.2435, 'learning_rate': 1.1692745376955905e-05, 'epoch': 4.15}\n",
      "{'loss': 0.2519, 'learning_rate': 1.1664295874822192e-05, 'epoch': 4.17}\n",
      "{'loss': 0.2132, 'learning_rate': 1.163584637268848e-05, 'epoch': 4.18}\n",
      "{'loss': 0.21, 'learning_rate': 1.1607396870554765e-05, 'epoch': 4.19}\n",
      "{'loss': 0.2087, 'learning_rate': 1.1578947368421053e-05, 'epoch': 4.21}\n",
      "{'loss': 0.7641, 'learning_rate': 1.155049786628734e-05, 'epoch': 4.22}\n",
      "{'loss': 0.2342, 'learning_rate': 1.1522048364153629e-05, 'epoch': 4.24}\n",
      "{'loss': 0.1756, 'learning_rate': 1.1493598862019915e-05, 'epoch': 4.25}\n",
      "{'loss': 0.3372, 'learning_rate': 1.1465149359886204e-05, 'epoch': 4.27}\n",
      "{'loss': 0.2515, 'learning_rate': 1.143669985775249e-05, 'epoch': 4.28}\n",
      "{'loss': 0.2349, 'learning_rate': 1.1408250355618777e-05, 'epoch': 4.29}\n",
      "{'loss': 0.179, 'learning_rate': 1.1379800853485066e-05, 'epoch': 4.31}\n",
      "{'loss': 0.2451, 'learning_rate': 1.1351351351351352e-05, 'epoch': 4.32}\n",
      "{'loss': 0.2183, 'learning_rate': 1.132290184921764e-05, 'epoch': 4.34}\n",
      "{'loss': 0.3383, 'learning_rate': 1.1294452347083926e-05, 'epoch': 4.35}\n",
      "{'loss': 0.2505, 'learning_rate': 1.1266002844950214e-05, 'epoch': 4.37}\n",
      "{'loss': 0.2106, 'learning_rate': 1.1237553342816501e-05, 'epoch': 4.38}\n",
      "{'loss': 0.2443, 'learning_rate': 1.120910384068279e-05, 'epoch': 4.39}\n",
      "{'loss': 0.261, 'learning_rate': 1.1180654338549078e-05, 'epoch': 4.41}\n",
      "{'loss': 0.2443, 'learning_rate': 1.1152204836415363e-05, 'epoch': 4.42}\n",
      "{'loss': 0.2021, 'learning_rate': 1.1123755334281651e-05, 'epoch': 4.44}\n",
      "{'loss': 0.2319, 'learning_rate': 1.1095305832147938e-05, 'epoch': 4.45}\n",
      "{'loss': 0.2271, 'learning_rate': 1.1066856330014226e-05, 'epoch': 4.46}\n",
      "{'loss': 0.4263, 'learning_rate': 1.1038406827880513e-05, 'epoch': 4.48}\n",
      "{'loss': 0.2671, 'learning_rate': 1.10099573257468e-05, 'epoch': 4.49}\n",
      "{'loss': 0.1912, 'learning_rate': 1.0981507823613087e-05, 'epoch': 4.51}\n",
      "{'loss': 0.2272, 'learning_rate': 1.0953058321479375e-05, 'epoch': 4.52}\n",
      "{'loss': 0.2257, 'learning_rate': 1.0924608819345663e-05, 'epoch': 4.54}\n",
      "{'loss': 0.2435, 'learning_rate': 1.089615931721195e-05, 'epoch': 4.55}\n",
      "{'loss': 0.2772, 'learning_rate': 1.0867709815078239e-05, 'epoch': 4.56}\n",
      "{'loss': 0.2585, 'learning_rate': 1.0839260312944524e-05, 'epoch': 4.58}\n",
      "{'loss': 0.2515, 'learning_rate': 1.0810810810810812e-05, 'epoch': 4.59}\n",
      "{'loss': 0.196, 'learning_rate': 1.0782361308677099e-05, 'epoch': 4.61}\n",
      "{'loss': 0.2559, 'learning_rate': 1.0753911806543387e-05, 'epoch': 4.62}\n",
      "{'loss': 0.2103, 'learning_rate': 1.0725462304409672e-05, 'epoch': 4.64}\n",
      "{'loss': 0.1768, 'learning_rate': 1.069701280227596e-05, 'epoch': 4.65}\n",
      "{'loss': 0.3121, 'learning_rate': 1.0668563300142247e-05, 'epoch': 4.66}\n",
      "{'loss': 0.2149, 'learning_rate': 1.0640113798008536e-05, 'epoch': 4.68}\n",
      "{'loss': 0.2089, 'learning_rate': 1.0611664295874824e-05, 'epoch': 4.69}\n",
      "{'loss': 0.1983, 'learning_rate': 1.058321479374111e-05, 'epoch': 4.71}\n",
      "{'loss': 0.2212, 'learning_rate': 1.0554765291607398e-05, 'epoch': 4.72}\n",
      "{'loss': 0.1879, 'learning_rate': 1.0526315789473684e-05, 'epoch': 4.74}\n",
      "{'loss': 0.2264, 'learning_rate': 1.0497866287339973e-05, 'epoch': 4.75}\n",
      "{'loss': 0.2496, 'learning_rate': 1.046941678520626e-05, 'epoch': 4.76}\n",
      "{'loss': 0.2181, 'learning_rate': 1.0440967283072548e-05, 'epoch': 4.78}\n",
      "{'loss': 0.2528, 'learning_rate': 1.0412517780938833e-05, 'epoch': 4.79}\n",
      "{'loss': 0.2286, 'learning_rate': 1.0384068278805121e-05, 'epoch': 4.81}\n",
      "{'loss': 0.3029, 'learning_rate': 1.035561877667141e-05, 'epoch': 4.82}\n",
      "{'loss': 0.2018, 'learning_rate': 1.0327169274537697e-05, 'epoch': 4.83}\n",
      "{'loss': 0.2346, 'learning_rate': 1.0298719772403985e-05, 'epoch': 4.85}\n",
      "{'loss': 0.2264, 'learning_rate': 1.027027027027027e-05, 'epoch': 4.86}\n",
      "{'loss': 0.2735, 'learning_rate': 1.0241820768136559e-05, 'epoch': 4.88}\n",
      "{'loss': 0.285, 'learning_rate': 1.0213371266002845e-05, 'epoch': 4.89}\n",
      "{'loss': 0.1695, 'learning_rate': 1.0184921763869134e-05, 'epoch': 4.91}\n",
      "{'loss': 0.2474, 'learning_rate': 1.0156472261735419e-05, 'epoch': 4.92}\n",
      "{'loss': 0.1496, 'learning_rate': 1.0128022759601707e-05, 'epoch': 4.93}\n",
      "{'loss': 0.1904, 'learning_rate': 1.0099573257467996e-05, 'epoch': 4.95}\n",
      "{'loss': 0.2135, 'learning_rate': 1.0071123755334282e-05, 'epoch': 4.96}\n",
      "{'loss': 0.3119, 'learning_rate': 1.004267425320057e-05, 'epoch': 4.98}\n",
      "{'loss': 0.1929, 'learning_rate': 1.0014224751066857e-05, 'epoch': 4.99}\n"
     ]
    },
    {
     "data": {
      "application/vnd.jupyter.widget-view+json": {
       "model_id": "3564ebe37d33441e83ebaa218c1700d6",
       "version_major": 2,
       "version_minor": 0
      },
      "text/plain": [
       "  0%|          | 0/313 [00:00<?, ?it/s]"
      ]
     },
     "metadata": {},
     "output_type": "display_data"
    },
    {
     "name": "stdout",
     "output_type": "stream",
     "text": [
      "{'eval_loss': 0.7305812239646912, 'eval_mse': 0.7305812239646912, 'eval_runtime': 6.5234, 'eval_samples_per_second': 191.618, 'eval_steps_per_second': 47.981, 'epoch': 5.0}\n",
      "{'loss': 0.1769, 'learning_rate': 9.985775248933144e-06, 'epoch': 5.01}\n",
      "{'loss': 0.1822, 'learning_rate': 9.957325746799433e-06, 'epoch': 5.02}\n",
      "{'loss': 0.3009, 'learning_rate': 9.92887624466572e-06, 'epoch': 5.03}\n",
      "{'loss': 0.1338, 'learning_rate': 9.900426742532006e-06, 'epoch': 5.05}\n",
      "{'loss': 0.8599, 'learning_rate': 9.871977240398294e-06, 'epoch': 5.06}\n",
      "{'loss': 0.2147, 'learning_rate': 9.843527738264581e-06, 'epoch': 5.08}\n",
      "{'loss': 0.2246, 'learning_rate': 9.815078236130868e-06, 'epoch': 5.09}\n",
      "{'loss': 0.18, 'learning_rate': 9.786628733997155e-06, 'epoch': 5.1}\n",
      "{'loss': 0.1627, 'learning_rate': 9.758179231863443e-06, 'epoch': 5.12}\n",
      "{'loss': 0.1307, 'learning_rate': 9.729729729729732e-06, 'epoch': 5.13}\n",
      "{'loss': 0.2134, 'learning_rate': 9.701280227596018e-06, 'epoch': 5.15}\n",
      "{'loss': 0.2308, 'learning_rate': 9.672830725462305e-06, 'epoch': 5.16}\n",
      "{'loss': 0.1906, 'learning_rate': 9.644381223328593e-06, 'epoch': 5.18}\n",
      "{'loss': 0.1721, 'learning_rate': 9.61593172119488e-06, 'epoch': 5.19}\n",
      "{'loss': 0.174, 'learning_rate': 9.587482219061167e-06, 'epoch': 5.2}\n",
      "{'loss': 0.1649, 'learning_rate': 9.559032716927454e-06, 'epoch': 5.22}\n",
      "{'loss': 0.1863, 'learning_rate': 9.530583214793742e-06, 'epoch': 5.23}\n",
      "{'loss': 0.1584, 'learning_rate': 9.502133712660029e-06, 'epoch': 5.25}\n",
      "{'loss': 0.186, 'learning_rate': 9.473684210526315e-06, 'epoch': 5.26}\n",
      "{'loss': 0.1829, 'learning_rate': 9.445234708392604e-06, 'epoch': 5.28}\n",
      "{'loss': 0.1863, 'learning_rate': 9.416785206258892e-06, 'epoch': 5.29}\n",
      "{'loss': 0.3169, 'learning_rate': 9.388335704125179e-06, 'epoch': 5.3}\n",
      "{'loss': 0.1355, 'learning_rate': 9.359886201991466e-06, 'epoch': 5.32}\n",
      "{'loss': 0.2013, 'learning_rate': 9.331436699857753e-06, 'epoch': 5.33}\n",
      "{'loss': 0.2227, 'learning_rate': 9.302987197724041e-06, 'epoch': 5.35}\n",
      "{'loss': 0.2172, 'learning_rate': 9.274537695590328e-06, 'epoch': 5.36}\n",
      "{'loss': 0.1975, 'learning_rate': 9.246088193456614e-06, 'epoch': 5.38}\n",
      "{'loss': 0.2469, 'learning_rate': 9.217638691322903e-06, 'epoch': 5.39}\n",
      "{'loss': 0.1991, 'learning_rate': 9.189189189189191e-06, 'epoch': 5.4}\n",
      "{'loss': 0.1517, 'learning_rate': 9.160739687055478e-06, 'epoch': 5.42}\n",
      "{'loss': 0.1602, 'learning_rate': 9.132290184921765e-06, 'epoch': 5.43}\n",
      "{'loss': 0.1933, 'learning_rate': 9.103840682788051e-06, 'epoch': 5.45}\n",
      "{'loss': 0.1959, 'learning_rate': 9.07539118065434e-06, 'epoch': 5.46}\n",
      "{'loss': 0.1866, 'learning_rate': 9.046941678520627e-06, 'epoch': 5.47}\n",
      "{'loss': 0.2098, 'learning_rate': 9.018492176386913e-06, 'epoch': 5.49}\n",
      "{'loss': 0.2376, 'learning_rate': 8.990042674253202e-06, 'epoch': 5.5}\n",
      "{'loss': 0.1667, 'learning_rate': 8.961593172119488e-06, 'epoch': 5.52}\n",
      "{'loss': 0.1525, 'learning_rate': 8.933143669985777e-06, 'epoch': 5.53}\n",
      "{'loss': 0.2116, 'learning_rate': 8.904694167852064e-06, 'epoch': 5.55}\n",
      "{'loss': 0.1853, 'learning_rate': 8.87624466571835e-06, 'epoch': 5.56}\n",
      "{'loss': 0.1683, 'learning_rate': 8.847795163584639e-06, 'epoch': 5.57}\n",
      "{'loss': 0.1867, 'learning_rate': 8.819345661450926e-06, 'epoch': 5.59}\n",
      "{'loss': 0.2363, 'learning_rate': 8.790896159317212e-06, 'epoch': 5.6}\n",
      "{'loss': 0.2127, 'learning_rate': 8.7624466571835e-06, 'epoch': 5.62}\n",
      "{'loss': 0.1856, 'learning_rate': 8.733997155049787e-06, 'epoch': 5.63}\n",
      "{'loss': 0.1445, 'learning_rate': 8.705547652916074e-06, 'epoch': 5.65}\n",
      "{'loss': 0.146, 'learning_rate': 8.677098150782361e-06, 'epoch': 5.66}\n",
      "{'loss': 0.2299, 'learning_rate': 8.64864864864865e-06, 'epoch': 5.67}\n",
      "{'loss': 0.1904, 'learning_rate': 8.620199146514938e-06, 'epoch': 5.69}\n",
      "{'loss': 0.1384, 'learning_rate': 8.591749644381224e-06, 'epoch': 5.7}\n",
      "{'loss': 0.1563, 'learning_rate': 8.563300142247511e-06, 'epoch': 5.72}\n",
      "{'loss': 0.1911, 'learning_rate': 8.534850640113798e-06, 'epoch': 5.73}\n",
      "{'loss': 0.1624, 'learning_rate': 8.506401137980086e-06, 'epoch': 5.74}\n",
      "{'loss': 0.1605, 'learning_rate': 8.477951635846373e-06, 'epoch': 5.76}\n",
      "{'loss': 0.2004, 'learning_rate': 8.44950213371266e-06, 'epoch': 5.77}\n",
      "{'loss': 0.1792, 'learning_rate': 8.421052631578948e-06, 'epoch': 5.79}\n",
      "{'loss': 0.1469, 'learning_rate': 8.392603129445237e-06, 'epoch': 5.8}\n",
      "{'loss': 0.1952, 'learning_rate': 8.364153627311523e-06, 'epoch': 5.82}\n",
      "{'loss': 0.1699, 'learning_rate': 8.33570412517781e-06, 'epoch': 5.83}\n",
      "{'loss': 0.1712, 'learning_rate': 8.307254623044097e-06, 'epoch': 5.84}\n",
      "{'loss': 0.2082, 'learning_rate': 8.278805120910385e-06, 'epoch': 5.86}\n",
      "{'loss': 0.1906, 'learning_rate': 8.250355618776672e-06, 'epoch': 5.87}\n",
      "{'loss': 0.1705, 'learning_rate': 8.221906116642959e-06, 'epoch': 5.89}\n",
      "{'loss': 0.2183, 'learning_rate': 8.193456614509247e-06, 'epoch': 5.9}\n",
      "{'loss': 0.1594, 'learning_rate': 8.165007112375534e-06, 'epoch': 5.92}\n",
      "{'loss': 0.2053, 'learning_rate': 8.13655761024182e-06, 'epoch': 5.93}\n",
      "{'loss': 0.1567, 'learning_rate': 8.108108108108109e-06, 'epoch': 5.94}\n",
      "{'loss': 0.2574, 'learning_rate': 8.079658605974396e-06, 'epoch': 5.96}\n",
      "{'loss': 0.1337, 'learning_rate': 8.051209103840684e-06, 'epoch': 5.97}\n",
      "{'loss': 0.1661, 'learning_rate': 8.022759601706971e-06, 'epoch': 5.99}\n"
     ]
    },
    {
     "data": {
      "application/vnd.jupyter.widget-view+json": {
       "model_id": "7223e90d81fd4b3393c170efb31f2fd3",
       "version_major": 2,
       "version_minor": 0
      },
      "text/plain": [
       "  0%|          | 0/313 [00:00<?, ?it/s]"
      ]
     },
     "metadata": {},
     "output_type": "display_data"
    },
    {
     "name": "stdout",
     "output_type": "stream",
     "text": [
      "{'eval_loss': 0.6793612837791443, 'eval_mse': 0.6793612837791443, 'eval_runtime': 6.1192, 'eval_samples_per_second': 204.274, 'eval_steps_per_second': 51.15, 'epoch': 6.0}\n",
      "{'loss': 0.1643, 'learning_rate': 7.994310099573258e-06, 'epoch': 6.0}\n",
      "{'loss': 0.0884, 'learning_rate': 7.965860597439546e-06, 'epoch': 6.01}\n",
      "{'loss': 0.1612, 'learning_rate': 7.937411095305833e-06, 'epoch': 6.03}\n",
      "{'loss': 0.1737, 'learning_rate': 7.90896159317212e-06, 'epoch': 6.04}\n",
      "{'loss': 0.1787, 'learning_rate': 7.880512091038406e-06, 'epoch': 6.06}\n",
      "{'loss': 0.1415, 'learning_rate': 7.852062588904695e-06, 'epoch': 6.07}\n",
      "{'loss': 0.1986, 'learning_rate': 7.823613086770983e-06, 'epoch': 6.09}\n",
      "{'loss': 0.1845, 'learning_rate': 7.79516358463727e-06, 'epoch': 6.1}\n",
      "{'loss': 0.1197, 'learning_rate': 7.766714082503557e-06, 'epoch': 6.11}\n",
      "{'loss': 0.1315, 'learning_rate': 7.738264580369845e-06, 'epoch': 6.13}\n",
      "{'loss': 0.1108, 'learning_rate': 7.709815078236132e-06, 'epoch': 6.14}\n",
      "{'loss': 0.1664, 'learning_rate': 7.681365576102418e-06, 'epoch': 6.16}\n",
      "{'loss': 0.1408, 'learning_rate': 7.652916073968705e-06, 'epoch': 6.17}\n",
      "{'loss': 0.1483, 'learning_rate': 7.624466571834993e-06, 'epoch': 6.19}\n",
      "{'loss': 0.1384, 'learning_rate': 7.596017069701281e-06, 'epoch': 6.2}\n",
      "{'loss': 0.159, 'learning_rate': 7.567567567567569e-06, 'epoch': 6.21}\n",
      "{'loss': 0.1238, 'learning_rate': 7.5391180654338555e-06, 'epoch': 6.23}\n",
      "{'loss': 0.1694, 'learning_rate': 7.510668563300143e-06, 'epoch': 6.24}\n",
      "{'loss': 0.1409, 'learning_rate': 7.482219061166431e-06, 'epoch': 6.26}\n",
      "{'loss': 0.1769, 'learning_rate': 7.453769559032717e-06, 'epoch': 6.27}\n",
      "{'loss': 0.1081, 'learning_rate': 7.425320056899005e-06, 'epoch': 6.29}\n",
      "{'loss': 0.1146, 'learning_rate': 7.396870554765292e-06, 'epoch': 6.3}\n",
      "{'loss': 0.1699, 'learning_rate': 7.368421052631579e-06, 'epoch': 6.31}\n",
      "{'loss': 0.1387, 'learning_rate': 7.339971550497866e-06, 'epoch': 6.33}\n",
      "{'loss': 0.1905, 'learning_rate': 7.3115220483641544e-06, 'epoch': 6.34}\n",
      "{'loss': 0.1611, 'learning_rate': 7.283072546230442e-06, 'epoch': 6.36}\n",
      "{'loss': 0.1107, 'learning_rate': 7.254623044096729e-06, 'epoch': 6.37}\n",
      "{'loss': 0.1325, 'learning_rate': 7.226173541963016e-06, 'epoch': 6.38}\n",
      "{'loss': 0.1618, 'learning_rate': 7.197724039829304e-06, 'epoch': 6.4}\n",
      "{'loss': 0.1709, 'learning_rate': 7.169274537695591e-06, 'epoch': 6.41}\n",
      "{'loss': 0.22, 'learning_rate': 7.140825035561878e-06, 'epoch': 6.43}\n",
      "{'loss': 0.2168, 'learning_rate': 7.112375533428165e-06, 'epoch': 6.44}\n",
      "{'loss': 0.1335, 'learning_rate': 7.0839260312944525e-06, 'epoch': 6.46}\n",
      "{'loss': 0.1388, 'learning_rate': 7.055476529160741e-06, 'epoch': 6.47}\n",
      "{'loss': 0.1475, 'learning_rate': 7.027027027027028e-06, 'epoch': 6.48}\n",
      "{'loss': 0.1482, 'learning_rate': 6.998577524893315e-06, 'epoch': 6.5}\n",
      "{'loss': 0.1921, 'learning_rate': 6.970128022759603e-06, 'epoch': 6.51}\n",
      "{'loss': 0.2386, 'learning_rate': 6.9416785206258896e-06, 'epoch': 6.53}\n",
      "{'loss': 0.1806, 'learning_rate': 6.913229018492177e-06, 'epoch': 6.54}\n",
      "{'loss': 0.113, 'learning_rate': 6.884779516358464e-06, 'epoch': 6.56}\n",
      "{'loss': 0.1434, 'learning_rate': 6.8563300142247514e-06, 'epoch': 6.57}\n",
      "{'loss': 0.1592, 'learning_rate': 6.827880512091038e-06, 'epoch': 6.58}\n",
      "{'loss': 0.1437, 'learning_rate': 6.799431009957327e-06, 'epoch': 6.6}\n",
      "{'loss': 0.1478, 'learning_rate': 6.770981507823614e-06, 'epoch': 6.61}\n",
      "{'loss': 0.1641, 'learning_rate': 6.742532005689901e-06, 'epoch': 6.63}\n",
      "{'loss': 0.188, 'learning_rate': 6.7140825035561885e-06, 'epoch': 6.64}\n",
      "{'loss': 0.108, 'learning_rate': 6.685633001422476e-06, 'epoch': 6.65}\n",
      "{'loss': 0.1252, 'learning_rate': 6.657183499288763e-06, 'epoch': 6.67}\n",
      "{'loss': 0.1287, 'learning_rate': 6.62873399715505e-06, 'epoch': 6.68}\n",
      "{'loss': 0.1215, 'learning_rate': 6.600284495021337e-06, 'epoch': 6.7}\n",
      "{'loss': 0.1387, 'learning_rate': 6.571834992887625e-06, 'epoch': 6.71}\n",
      "{'loss': 0.1392, 'learning_rate': 6.543385490753912e-06, 'epoch': 6.73}\n",
      "{'loss': 0.147, 'learning_rate': 6.5149359886202e-06, 'epoch': 6.74}\n",
      "{'loss': 0.2005, 'learning_rate': 6.486486486486487e-06, 'epoch': 6.75}\n",
      "{'loss': 0.1195, 'learning_rate': 6.458036984352775e-06, 'epoch': 6.77}\n",
      "{'loss': 0.1742, 'learning_rate': 6.429587482219062e-06, 'epoch': 6.78}\n",
      "{'loss': 0.1473, 'learning_rate': 6.401137980085349e-06, 'epoch': 6.8}\n",
      "{'loss': 0.1265, 'learning_rate': 6.372688477951636e-06, 'epoch': 6.81}\n",
      "{'loss': 0.212, 'learning_rate': 6.344238975817924e-06, 'epoch': 6.83}\n",
      "{'loss': 0.1814, 'learning_rate': 6.31578947368421e-06, 'epoch': 6.84}\n",
      "{'loss': 0.1827, 'learning_rate': 6.287339971550498e-06, 'epoch': 6.85}\n",
      "{'loss': 0.57, 'learning_rate': 6.258890469416786e-06, 'epoch': 6.87}\n",
      "{'loss': 0.1578, 'learning_rate': 6.230440967283073e-06, 'epoch': 6.88}\n",
      "{'loss': 0.1702, 'learning_rate': 6.201991465149361e-06, 'epoch': 6.9}\n",
      "{'loss': 0.2217, 'learning_rate': 6.173541963015648e-06, 'epoch': 6.91}\n",
      "{'loss': 0.1594, 'learning_rate': 6.145092460881935e-06, 'epoch': 6.92}\n",
      "{'loss': 0.1312, 'learning_rate': 6.1166429587482225e-06, 'epoch': 6.94}\n",
      "{'loss': 0.1424, 'learning_rate': 6.088193456614509e-06, 'epoch': 6.95}\n",
      "{'loss': 0.1522, 'learning_rate': 6.059743954480797e-06, 'epoch': 6.97}\n",
      "{'loss': 0.1815, 'learning_rate': 6.031294452347084e-06, 'epoch': 6.98}\n",
      "{'loss': 0.0995, 'learning_rate': 6.002844950213371e-06, 'epoch': 7.0}\n"
     ]
    },
    {
     "data": {
      "application/vnd.jupyter.widget-view+json": {
       "model_id": "bcc043a29f264d228b2d5625fa5db89e",
       "version_major": 2,
       "version_minor": 0
      },
      "text/plain": [
       "  0%|          | 0/313 [00:00<?, ?it/s]"
      ]
     },
     "metadata": {},
     "output_type": "display_data"
    },
    {
     "name": "stdout",
     "output_type": "stream",
     "text": [
      "{'eval_loss': 0.6658053994178772, 'eval_mse': 0.6658053994178772, 'eval_runtime': 6.1071, 'eval_samples_per_second': 204.679, 'eval_steps_per_second': 51.252, 'epoch': 7.0}\n",
      "{'loss': 0.1156, 'learning_rate': 5.9743954480796596e-06, 'epoch': 7.01}\n",
      "{'loss': 0.1695, 'learning_rate': 5.945945945945947e-06, 'epoch': 7.02}\n",
      "{'loss': 0.1184, 'learning_rate': 5.917496443812234e-06, 'epoch': 7.04}\n",
      "{'loss': 0.1715, 'learning_rate': 5.8890469416785214e-06, 'epoch': 7.05}\n",
      "{'loss': 0.1335, 'learning_rate': 5.860597439544808e-06, 'epoch': 7.07}\n",
      "{'loss': 0.1356, 'learning_rate': 5.832147937411096e-06, 'epoch': 7.08}\n",
      "{'loss': 0.1227, 'learning_rate': 5.8036984352773825e-06, 'epoch': 7.1}\n",
      "{'loss': 0.1152, 'learning_rate': 5.77524893314367e-06, 'epoch': 7.11}\n",
      "{'loss': 0.17, 'learning_rate': 5.746799431009958e-06, 'epoch': 7.12}\n",
      "{'loss': 0.1372, 'learning_rate': 5.718349928876245e-06, 'epoch': 7.14}\n",
      "{'loss': 0.1118, 'learning_rate': 5.689900426742533e-06, 'epoch': 7.15}\n",
      "{'loss': 0.1598, 'learning_rate': 5.66145092460882e-06, 'epoch': 7.17}\n",
      "{'loss': 0.1034, 'learning_rate': 5.633001422475107e-06, 'epoch': 7.18}\n",
      "{'loss': 0.1067, 'learning_rate': 5.604551920341395e-06, 'epoch': 7.2}\n",
      "{'loss': 0.0838, 'learning_rate': 5.576102418207681e-06, 'epoch': 7.21}\n",
      "{'loss': 0.1207, 'learning_rate': 5.547652916073969e-06, 'epoch': 7.22}\n",
      "{'loss': 0.1293, 'learning_rate': 5.5192034139402566e-06, 'epoch': 7.24}\n",
      "{'loss': 0.1132, 'learning_rate': 5.490753911806543e-06, 'epoch': 7.25}\n",
      "{'loss': 0.1118, 'learning_rate': 5.462304409672832e-06, 'epoch': 7.27}\n",
      "{'loss': 0.1735, 'learning_rate': 5.433854907539119e-06, 'epoch': 7.28}\n",
      "{'loss': 0.1011, 'learning_rate': 5.405405405405406e-06, 'epoch': 7.29}\n",
      "{'loss': 0.1237, 'learning_rate': 5.376955903271694e-06, 'epoch': 7.31}\n",
      "{'loss': 0.1246, 'learning_rate': 5.34850640113798e-06, 'epoch': 7.32}\n",
      "{'loss': 0.1242, 'learning_rate': 5.320056899004268e-06, 'epoch': 7.34}\n",
      "{'loss': 0.115, 'learning_rate': 5.291607396870555e-06, 'epoch': 7.35}\n",
      "{'loss': 0.1674, 'learning_rate': 5.263157894736842e-06, 'epoch': 7.37}\n",
      "{'loss': 0.1103, 'learning_rate': 5.23470839260313e-06, 'epoch': 7.38}\n",
      "{'loss': 0.1303, 'learning_rate': 5.2062588904694165e-06, 'epoch': 7.39}\n",
      "{'loss': 0.0932, 'learning_rate': 5.177809388335705e-06, 'epoch': 7.41}\n",
      "{'loss': 0.1129, 'learning_rate': 5.1493598862019925e-06, 'epoch': 7.42}\n",
      "{'loss': 0.1214, 'learning_rate': 5.120910384068279e-06, 'epoch': 7.44}\n",
      "{'loss': 0.1118, 'learning_rate': 5.092460881934567e-06, 'epoch': 7.45}\n",
      "{'loss': 0.1283, 'learning_rate': 5.0640113798008536e-06, 'epoch': 7.47}\n",
      "{'loss': 0.1193, 'learning_rate': 5.035561877667141e-06, 'epoch': 7.48}\n",
      "{'loss': 0.1253, 'learning_rate': 5.007112375533429e-06, 'epoch': 7.49}\n",
      "{'loss': 0.1349, 'learning_rate': 4.978662873399716e-06, 'epoch': 7.51}\n",
      "{'loss': 0.5753, 'learning_rate': 4.950213371266003e-06, 'epoch': 7.52}\n",
      "{'loss': 0.157, 'learning_rate': 4.921763869132291e-06, 'epoch': 7.54}\n",
      "{'loss': 0.0997, 'learning_rate': 4.893314366998577e-06, 'epoch': 7.55}\n",
      "{'loss': 0.128, 'learning_rate': 4.864864864864866e-06, 'epoch': 7.56}\n",
      "{'loss': 0.1253, 'learning_rate': 4.8364153627311525e-06, 'epoch': 7.58}\n",
      "{'loss': 0.1011, 'learning_rate': 4.80796586059744e-06, 'epoch': 7.59}\n",
      "{'loss': 0.1165, 'learning_rate': 4.779516358463727e-06, 'epoch': 7.61}\n",
      "{'loss': 0.124, 'learning_rate': 4.751066856330014e-06, 'epoch': 7.62}\n",
      "{'loss': 0.1398, 'learning_rate': 4.722617354196302e-06, 'epoch': 7.64}\n",
      "{'loss': 0.1291, 'learning_rate': 4.6941678520625895e-06, 'epoch': 7.65}\n",
      "{'loss': 0.1363, 'learning_rate': 4.665718349928876e-06, 'epoch': 7.66}\n",
      "{'loss': 0.1175, 'learning_rate': 4.637268847795164e-06, 'epoch': 7.68}\n",
      "{'loss': 0.1083, 'learning_rate': 4.608819345661451e-06, 'epoch': 7.69}\n",
      "{'loss': 0.1005, 'learning_rate': 4.580369843527739e-06, 'epoch': 7.71}\n",
      "{'loss': 0.1435, 'learning_rate': 4.551920341394026e-06, 'epoch': 7.72}\n",
      "{'loss': 0.1088, 'learning_rate': 4.523470839260313e-06, 'epoch': 7.74}\n",
      "{'loss': 0.1009, 'learning_rate': 4.495021337126601e-06, 'epoch': 7.75}\n",
      "{'loss': 0.1195, 'learning_rate': 4.4665718349928885e-06, 'epoch': 7.76}\n",
      "{'loss': 0.1142, 'learning_rate': 4.438122332859175e-06, 'epoch': 7.78}\n",
      "{'loss': 0.1367, 'learning_rate': 4.409672830725463e-06, 'epoch': 7.79}\n",
      "{'loss': 0.1126, 'learning_rate': 4.38122332859175e-06, 'epoch': 7.81}\n",
      "{'loss': 0.1251, 'learning_rate': 4.352773826458037e-06, 'epoch': 7.82}\n",
      "{'loss': 0.1136, 'learning_rate': 4.324324324324325e-06, 'epoch': 7.84}\n",
      "{'loss': 0.1065, 'learning_rate': 4.295874822190612e-06, 'epoch': 7.85}\n",
      "{'loss': 0.115, 'learning_rate': 4.267425320056899e-06, 'epoch': 7.86}\n",
      "{'loss': 0.1065, 'learning_rate': 4.2389758179231865e-06, 'epoch': 7.88}\n",
      "{'loss': 0.1378, 'learning_rate': 4.210526315789474e-06, 'epoch': 7.89}\n",
      "{'loss': 0.1345, 'learning_rate': 4.182076813655762e-06, 'epoch': 7.91}\n",
      "{'loss': 0.111, 'learning_rate': 4.1536273115220484e-06, 'epoch': 7.92}\n",
      "{'loss': 0.1326, 'learning_rate': 4.125177809388336e-06, 'epoch': 7.93}\n",
      "{'loss': 0.1197, 'learning_rate': 4.096728307254624e-06, 'epoch': 7.95}\n",
      "{'loss': 0.1042, 'learning_rate': 4.06827880512091e-06, 'epoch': 7.96}\n",
      "{'loss': 0.0902, 'learning_rate': 4.039829302987198e-06, 'epoch': 7.98}\n",
      "{'loss': 0.1013, 'learning_rate': 4.0113798008534855e-06, 'epoch': 7.99}\n"
     ]
    },
    {
     "data": {
      "application/vnd.jupyter.widget-view+json": {
       "model_id": "ff59a298b564432cbb32b9007c9ab64f",
       "version_major": 2,
       "version_minor": 0
      },
      "text/plain": [
       "  0%|          | 0/313 [00:00<?, ?it/s]"
      ]
     },
     "metadata": {},
     "output_type": "display_data"
    },
    {
     "name": "stdout",
     "output_type": "stream",
     "text": [
      "{'eval_loss': 0.641223132610321, 'eval_mse': 0.641223132610321, 'eval_runtime': 5.8559, 'eval_samples_per_second': 213.459, 'eval_steps_per_second': 53.45, 'epoch': 8.0}\n",
      "{'loss': 0.1003, 'learning_rate': 3.982930298719773e-06, 'epoch': 8.01}\n",
      "{'loss': 0.5245, 'learning_rate': 3.95448079658606e-06, 'epoch': 8.02}\n",
      "{'loss': 0.1286, 'learning_rate': 3.926031294452347e-06, 'epoch': 8.03}\n",
      "{'loss': 0.1015, 'learning_rate': 3.897581792318635e-06, 'epoch': 8.05}\n",
      "{'loss': 0.0785, 'learning_rate': 3.8691322901849225e-06, 'epoch': 8.06}\n",
      "{'loss': 0.1012, 'learning_rate': 3.840682788051209e-06, 'epoch': 8.08}\n",
      "{'loss': 0.0999, 'learning_rate': 3.8122332859174964e-06, 'epoch': 8.09}\n",
      "{'loss': 0.1034, 'learning_rate': 3.7837837837837844e-06, 'epoch': 8.11}\n",
      "{'loss': 0.1081, 'learning_rate': 3.7553342816500715e-06, 'epoch': 8.12}\n",
      "{'loss': 0.1103, 'learning_rate': 3.7268847795163587e-06, 'epoch': 8.13}\n",
      "{'loss': 0.0945, 'learning_rate': 3.698435277382646e-06, 'epoch': 8.15}\n",
      "{'loss': 0.1042, 'learning_rate': 3.669985775248933e-06, 'epoch': 8.16}\n",
      "{'loss': 0.0969, 'learning_rate': 3.641536273115221e-06, 'epoch': 8.18}\n",
      "{'loss': 0.1052, 'learning_rate': 3.613086770981508e-06, 'epoch': 8.19}\n",
      "{'loss': 0.1161, 'learning_rate': 3.5846372688477953e-06, 'epoch': 8.2}\n",
      "{'loss': 0.119, 'learning_rate': 3.5561877667140825e-06, 'epoch': 8.22}\n",
      "{'loss': 0.1361, 'learning_rate': 3.5277382645803705e-06, 'epoch': 8.23}\n",
      "{'loss': 0.1223, 'learning_rate': 3.4992887624466576e-06, 'epoch': 8.25}\n",
      "{'loss': 0.0947, 'learning_rate': 3.4708392603129448e-06, 'epoch': 8.26}\n",
      "{'loss': 0.0909, 'learning_rate': 3.442389758179232e-06, 'epoch': 8.28}\n",
      "{'loss': 0.1073, 'learning_rate': 3.413940256045519e-06, 'epoch': 8.29}\n",
      "{'loss': 0.0803, 'learning_rate': 3.385490753911807e-06, 'epoch': 8.3}\n",
      "{'loss': 0.0971, 'learning_rate': 3.3570412517780942e-06, 'epoch': 8.32}\n",
      "{'loss': 0.0811, 'learning_rate': 3.3285917496443814e-06, 'epoch': 8.33}\n",
      "{'loss': 0.1047, 'learning_rate': 3.3001422475106685e-06, 'epoch': 8.35}\n",
      "{'loss': 0.1223, 'learning_rate': 3.271692745376956e-06, 'epoch': 8.36}\n",
      "{'loss': 0.1326, 'learning_rate': 3.2432432432432437e-06, 'epoch': 8.38}\n",
      "{'loss': 0.1136, 'learning_rate': 3.214793741109531e-06, 'epoch': 8.39}\n",
      "{'loss': 0.104, 'learning_rate': 3.186344238975818e-06, 'epoch': 8.4}\n",
      "{'loss': 0.1122, 'learning_rate': 3.157894736842105e-06, 'epoch': 8.42}\n",
      "{'loss': 0.1181, 'learning_rate': 3.129445234708393e-06, 'epoch': 8.43}\n",
      "{'loss': 0.1065, 'learning_rate': 3.1009957325746803e-06, 'epoch': 8.45}\n",
      "{'loss': 0.1574, 'learning_rate': 3.0725462304409675e-06, 'epoch': 8.46}\n",
      "{'loss': 0.1323, 'learning_rate': 3.0440967283072546e-06, 'epoch': 8.47}\n",
      "{'loss': 0.0923, 'learning_rate': 3.015647226173542e-06, 'epoch': 8.49}\n",
      "{'loss': 0.1114, 'learning_rate': 2.9871977240398298e-06, 'epoch': 8.5}\n",
      "{'loss': 0.1093, 'learning_rate': 2.958748221906117e-06, 'epoch': 8.52}\n",
      "{'loss': 0.0835, 'learning_rate': 2.930298719772404e-06, 'epoch': 8.53}\n",
      "{'loss': 0.0921, 'learning_rate': 2.9018492176386912e-06, 'epoch': 8.55}\n",
      "{'loss': 0.0969, 'learning_rate': 2.873399715504979e-06, 'epoch': 8.56}\n",
      "{'loss': 0.1238, 'learning_rate': 2.8449502133712664e-06, 'epoch': 8.57}\n",
      "{'loss': 0.1023, 'learning_rate': 2.8165007112375536e-06, 'epoch': 8.59}\n",
      "{'loss': 0.0837, 'learning_rate': 2.7880512091038407e-06, 'epoch': 8.6}\n",
      "{'loss': 0.1144, 'learning_rate': 2.7596017069701283e-06, 'epoch': 8.62}\n",
      "{'loss': 0.0798, 'learning_rate': 2.731152204836416e-06, 'epoch': 8.63}\n",
      "{'loss': 0.0864, 'learning_rate': 2.702702702702703e-06, 'epoch': 8.65}\n",
      "{'loss': 0.1047, 'learning_rate': 2.67425320056899e-06, 'epoch': 8.66}\n",
      "{'loss': 0.0926, 'learning_rate': 2.6458036984352773e-06, 'epoch': 8.67}\n",
      "{'loss': 0.0955, 'learning_rate': 2.617354196301565e-06, 'epoch': 8.69}\n",
      "{'loss': 0.0583, 'learning_rate': 2.5889046941678525e-06, 'epoch': 8.7}\n",
      "{'loss': 0.1024, 'learning_rate': 2.5604551920341396e-06, 'epoch': 8.72}\n",
      "{'loss': 0.153, 'learning_rate': 2.5320056899004268e-06, 'epoch': 8.73}\n",
      "{'loss': 0.0853, 'learning_rate': 2.5035561877667144e-06, 'epoch': 8.75}\n",
      "{'loss': 0.1052, 'learning_rate': 2.4751066856330015e-06, 'epoch': 8.76}\n",
      "{'loss': 0.1089, 'learning_rate': 2.4466571834992887e-06, 'epoch': 8.77}\n",
      "{'loss': 0.0847, 'learning_rate': 2.4182076813655762e-06, 'epoch': 8.79}\n",
      "{'loss': 0.105, 'learning_rate': 2.3897581792318634e-06, 'epoch': 8.8}\n",
      "{'loss': 0.0918, 'learning_rate': 2.361308677098151e-06, 'epoch': 8.82}\n",
      "{'loss': 0.123, 'learning_rate': 2.332859174964438e-06, 'epoch': 8.83}\n",
      "{'loss': 0.1189, 'learning_rate': 2.3044096728307257e-06, 'epoch': 8.84}\n",
      "{'loss': 0.1378, 'learning_rate': 2.275960170697013e-06, 'epoch': 8.86}\n",
      "{'loss': 0.145, 'learning_rate': 2.2475106685633004e-06, 'epoch': 8.87}\n",
      "{'loss': 0.0887, 'learning_rate': 2.2190611664295876e-06, 'epoch': 8.89}\n",
      "{'loss': 0.1341, 'learning_rate': 2.190611664295875e-06, 'epoch': 8.9}\n",
      "{'loss': 0.0882, 'learning_rate': 2.1621621621621623e-06, 'epoch': 8.92}\n",
      "{'loss': 0.0809, 'learning_rate': 2.1337126600284495e-06, 'epoch': 8.93}\n",
      "{'loss': 0.1068, 'learning_rate': 2.105263157894737e-06, 'epoch': 8.94}\n",
      "{'loss': 0.1136, 'learning_rate': 2.0768136557610242e-06, 'epoch': 8.96}\n",
      "{'loss': 0.0974, 'learning_rate': 2.048364153627312e-06, 'epoch': 8.97}\n",
      "{'loss': 0.0861, 'learning_rate': 2.019914651493599e-06, 'epoch': 8.99}\n"
     ]
    },
    {
     "data": {
      "application/vnd.jupyter.widget-view+json": {
       "model_id": "c6b4f4374b1946d7b33c14a04d5303f2",
       "version_major": 2,
       "version_minor": 0
      },
      "text/plain": [
       "  0%|          | 0/313 [00:00<?, ?it/s]"
      ]
     },
     "metadata": {},
     "output_type": "display_data"
    },
    {
     "name": "stdout",
     "output_type": "stream",
     "text": [
      "{'eval_loss': 0.6002613306045532, 'eval_mse': 0.6002613306045532, 'eval_runtime': 6.048, 'eval_samples_per_second': 206.681, 'eval_steps_per_second': 51.753, 'epoch': 9.0}\n",
      "{'loss': 0.108, 'learning_rate': 1.9914651493598865e-06, 'epoch': 9.0}\n",
      "{'loss': 0.0836, 'learning_rate': 1.9630156472261737e-06, 'epoch': 9.02}\n",
      "{'loss': 0.0768, 'learning_rate': 1.9345661450924613e-06, 'epoch': 9.03}\n",
      "{'loss': 0.0833, 'learning_rate': 1.9061166429587482e-06, 'epoch': 9.04}\n",
      "{'loss': 0.0863, 'learning_rate': 1.8776671408250358e-06, 'epoch': 9.06}\n",
      "{'loss': 0.0815, 'learning_rate': 1.849217638691323e-06, 'epoch': 9.07}\n",
      "{'loss': 0.0875, 'learning_rate': 1.8207681365576105e-06, 'epoch': 9.09}\n",
      "{'loss': 0.0768, 'learning_rate': 1.7923186344238977e-06, 'epoch': 9.1}\n",
      "{'loss': 0.0844, 'learning_rate': 1.7638691322901852e-06, 'epoch': 9.11}\n",
      "{'loss': 0.0809, 'learning_rate': 1.7354196301564724e-06, 'epoch': 9.13}\n",
      "{'loss': 0.1419, 'learning_rate': 1.7069701280227595e-06, 'epoch': 9.14}\n",
      "{'loss': 0.1005, 'learning_rate': 1.6785206258890471e-06, 'epoch': 9.16}\n",
      "{'loss': 0.0921, 'learning_rate': 1.6500711237553343e-06, 'epoch': 9.17}\n",
      "{'loss': 0.0831, 'learning_rate': 1.6216216216216219e-06, 'epoch': 9.19}\n",
      "{'loss': 0.6059, 'learning_rate': 1.593172119487909e-06, 'epoch': 9.2}\n",
      "{'loss': 0.1049, 'learning_rate': 1.5647226173541966e-06, 'epoch': 9.21}\n",
      "{'loss': 0.0663, 'learning_rate': 1.5362731152204837e-06, 'epoch': 9.23}\n",
      "{'loss': 0.1177, 'learning_rate': 1.507823613086771e-06, 'epoch': 9.24}\n",
      "{'loss': 0.0758, 'learning_rate': 1.4793741109530585e-06, 'epoch': 9.26}\n",
      "{'loss': 0.0858, 'learning_rate': 1.4509246088193456e-06, 'epoch': 9.27}\n",
      "{'loss': 0.1006, 'learning_rate': 1.4224751066856332e-06, 'epoch': 9.29}\n",
      "{'loss': 0.0889, 'learning_rate': 1.3940256045519204e-06, 'epoch': 9.3}\n",
      "{'loss': 0.0912, 'learning_rate': 1.365576102418208e-06, 'epoch': 9.31}\n",
      "{'loss': 0.1044, 'learning_rate': 1.337126600284495e-06, 'epoch': 9.33}\n",
      "{'loss': 0.103, 'learning_rate': 1.3086770981507825e-06, 'epoch': 9.34}\n",
      "{'loss': 0.0919, 'learning_rate': 1.2802275960170698e-06, 'epoch': 9.36}\n",
      "{'loss': 0.0932, 'learning_rate': 1.2517780938833572e-06, 'epoch': 9.37}\n",
      "{'loss': 0.082, 'learning_rate': 1.2233285917496443e-06, 'epoch': 9.38}\n",
      "{'loss': 0.0949, 'learning_rate': 1.1948790896159317e-06, 'epoch': 9.4}\n",
      "{'loss': 0.0677, 'learning_rate': 1.166429587482219e-06, 'epoch': 9.41}\n",
      "{'loss': 0.0812, 'learning_rate': 1.1379800853485064e-06, 'epoch': 9.43}\n",
      "{'loss': 0.0781, 'learning_rate': 1.1095305832147938e-06, 'epoch': 9.44}\n",
      "{'loss': 0.084, 'learning_rate': 1.0810810810810812e-06, 'epoch': 9.46}\n",
      "{'loss': 0.0909, 'learning_rate': 1.0526315789473685e-06, 'epoch': 9.47}\n",
      "{'loss': 0.0859, 'learning_rate': 1.024182076813656e-06, 'epoch': 9.48}\n",
      "{'loss': 0.0708, 'learning_rate': 9.957325746799433e-07, 'epoch': 9.5}\n",
      "{'loss': 0.0825, 'learning_rate': 9.672830725462306e-07, 'epoch': 9.51}\n",
      "{'loss': 0.1026, 'learning_rate': 9.388335704125179e-07, 'epoch': 9.53}\n",
      "{'loss': 0.0843, 'learning_rate': 9.103840682788053e-07, 'epoch': 9.54}\n",
      "{'loss': 0.0842, 'learning_rate': 8.819345661450926e-07, 'epoch': 9.56}\n",
      "{'loss': 0.0804, 'learning_rate': 8.534850640113798e-07, 'epoch': 9.57}\n",
      "{'loss': 0.1016, 'learning_rate': 8.250355618776671e-07, 'epoch': 9.58}\n",
      "{'loss': 0.0867, 'learning_rate': 7.965860597439545e-07, 'epoch': 9.6}\n",
      "{'loss': 0.083, 'learning_rate': 7.681365576102419e-07, 'epoch': 9.61}\n",
      "{'loss': 0.0942, 'learning_rate': 7.396870554765292e-07, 'epoch': 9.63}\n",
      "{'loss': 0.0882, 'learning_rate': 7.112375533428166e-07, 'epoch': 9.64}\n",
      "{'loss': 0.1109, 'learning_rate': 6.82788051209104e-07, 'epoch': 9.66}\n",
      "{'loss': 0.0919, 'learning_rate': 6.543385490753912e-07, 'epoch': 9.67}\n",
      "{'loss': 0.1218, 'learning_rate': 6.258890469416786e-07, 'epoch': 9.68}\n",
      "{'loss': 0.0767, 'learning_rate': 5.974395448079659e-07, 'epoch': 9.7}\n",
      "{'loss': 0.086, 'learning_rate': 5.689900426742532e-07, 'epoch': 9.71}\n",
      "{'loss': 0.0842, 'learning_rate': 5.405405405405406e-07, 'epoch': 9.73}\n",
      "{'loss': 0.1091, 'learning_rate': 5.12091038406828e-07, 'epoch': 9.74}\n",
      "{'loss': 0.0723, 'learning_rate': 4.836415362731153e-07, 'epoch': 9.75}\n",
      "{'loss': 0.1088, 'learning_rate': 4.551920341394026e-07, 'epoch': 9.77}\n",
      "{'loss': 0.0938, 'learning_rate': 4.267425320056899e-07, 'epoch': 9.78}\n",
      "{'loss': 0.083, 'learning_rate': 3.9829302987197725e-07, 'epoch': 9.8}\n",
      "{'loss': 0.0848, 'learning_rate': 3.698435277382646e-07, 'epoch': 9.81}\n",
      "{'loss': 0.0986, 'learning_rate': 3.41394025604552e-07, 'epoch': 9.83}\n",
      "{'loss': 0.0846, 'learning_rate': 3.129445234708393e-07, 'epoch': 9.84}\n",
      "{'loss': 0.1047, 'learning_rate': 2.844950213371266e-07, 'epoch': 9.85}\n",
      "{'loss': 0.0785, 'learning_rate': 2.56045519203414e-07, 'epoch': 9.87}\n",
      "{'loss': 0.0691, 'learning_rate': 2.275960170697013e-07, 'epoch': 9.88}\n",
      "{'loss': 0.0787, 'learning_rate': 1.9914651493598863e-07, 'epoch': 9.9}\n",
      "{'loss': 0.091, 'learning_rate': 1.70697012802276e-07, 'epoch': 9.91}\n",
      "{'loss': 0.0911, 'learning_rate': 1.422475106685633e-07, 'epoch': 9.93}\n",
      "{'loss': 0.0778, 'learning_rate': 1.1379800853485066e-07, 'epoch': 9.94}\n",
      "{'loss': 0.075, 'learning_rate': 8.5348506401138e-08, 'epoch': 9.95}\n",
      "{'loss': 0.1608, 'learning_rate': 5.689900426742533e-08, 'epoch': 9.97}\n",
      "{'loss': 0.0817, 'learning_rate': 2.8449502133712664e-08, 'epoch': 9.98}\n",
      "{'loss': 0.093, 'learning_rate': 0.0, 'epoch': 10.0}\n"
     ]
    },
    {
     "data": {
      "application/vnd.jupyter.widget-view+json": {
       "model_id": "c8f227ae9bd94cbaa3a8c524ab0b2fb7",
       "version_major": 2,
       "version_minor": 0
      },
      "text/plain": [
       "  0%|          | 0/313 [00:00<?, ?it/s]"
      ]
     },
     "metadata": {},
     "output_type": "display_data"
    },
    {
     "name": "stdout",
     "output_type": "stream",
     "text": [
      "{'eval_loss': 0.6054350137710571, 'eval_mse': 0.6054350137710571, 'eval_runtime': 6.0903, 'eval_samples_per_second': 205.243, 'eval_steps_per_second': 51.393, 'epoch': 10.0}\n",
      "{'train_runtime': 1827.4649, 'train_samples_per_second': 61.561, 'train_steps_per_second': 3.847, 'train_loss': 0.5604167800794115, 'epoch': 10.0}\n"
     ]
    },
    {
     "data": {
      "text/plain": [
       "('./saved_model/tokenizer_config.json',\n",
       " './saved_model/special_tokens_map.json',\n",
       " './saved_model/vocab.json',\n",
       " './saved_model/merges.txt',\n",
       " './saved_model/added_tokens.json',\n",
       " './saved_model/tokenizer.json')"
      ]
     },
     "execution_count": 16,
     "metadata": {},
     "output_type": "execute_result"
    }
   ],
   "source": [
    "trainer.train(resume_from_checkpoint=True)\n",
    "\n",
    "model.save_pretrained(\"./saved_model\")\n",
    "tokenizer.save_pretrained(\"./saved_model\")"
   ]
  },
  {
   "cell_type": "code",
   "execution_count": 29,
   "id": "3ce10b0b",
   "metadata": {},
   "outputs": [
    {
     "data": {
      "application/vnd.jupyter.widget-view+json": {
       "model_id": "bab7de916a1d4fed99cf44ec3a7e0db4",
       "version_major": 2,
       "version_minor": 0
      },
      "text/plain": [
       "  0%|          | 0/250 [00:00<?, ?it/s]"
      ]
     },
     "metadata": {},
     "output_type": "display_data"
    },
    {
     "name": "stdout",
     "output_type": "stream",
     "text": [
      "Saved results\n"
     ]
    }
   ],
   "source": [
    "# Do predictions\n",
    "predictions = trainer.predict(tokenized_test_dataset[\"test\"])\n",
    "pred_scores = predictions.predictions.squeeze()\n",
    "\n",
    "with open(\"results.txt\", \"w\") as f:\n",
    "    for val in pred_scores:\n",
    "        f.write(f\"{val}\\n\")\n",
    "\n",
    "print(\"Saved results\")"
   ]
  },
  {
   "cell_type": "code",
   "execution_count": null,
   "id": "60e56bba5fa2d905",
   "metadata": {
    "collapsed": false
   },
   "outputs": [
    {
     "ename": "NameError",
     "evalue": "name 'torch' is not defined",
     "output_type": "error",
     "traceback": [
      "\u001b[0;31m---------------------------------------------------------------------------\u001b[0m",
      "\u001b[0;31mNameError\u001b[0m                                 Traceback (most recent call last)",
      "Cell \u001b[0;32mIn[7], line 2\u001b[0m\n\u001b[1;32m      1\u001b[0m model\u001b[38;5;241m.\u001b[39meval()\n\u001b[0;32m----> 2\u001b[0m \u001b[38;5;28;01mwith\u001b[39;00m \u001b[43mtorch\u001b[49m\u001b[38;5;241m.\u001b[39mno_grad():\n\u001b[1;32m      3\u001b[0m     results \u001b[38;5;241m=\u001b[39m []\n\u001b[1;32m      4\u001b[0m     \u001b[38;5;28;01mfor\u001b[39;00m batch \u001b[38;5;129;01min\u001b[39;00m tqdm(test_loader, total\u001b[38;5;241m=\u001b[39m\u001b[38;5;28mlen\u001b[39m(test_loader)):\n",
      "\u001b[0;31mNameError\u001b[0m: name 'torch' is not defined"
     ]
    }
   ],
   "source": [
    "# model.eval()\n",
    "# with torch.no_grad():\n",
    "#     results = []\n",
    "#     for batch in tqdm(test_loader, total=len(test_loader)):\n",
    "#         batch = batch.to(DEVICE)\n",
    "\n",
    "#         # TODO: Set up evaluation loop\n",
    "\n",
    "#     with open(\"result.txt\", \"w\") as f:\n",
    "#         for val in np.concatenate(results):\n",
    "#             f.write(f\"{val}\\n\")"
   ]
  }
 ],
 "metadata": {
  "kernelspec": {
   "display_name": "Python 3",
   "language": "python",
   "name": "python3"
  },
  "language_info": {
   "codemirror_mode": {
    "name": "ipython",
    "version": 3
   },
   "file_extension": ".py",
   "mimetype": "text/x-python",
   "name": "python",
   "nbconvert_exporter": "python",
   "pygments_lexer": "ipython3",
   "version": "3.10.12"
  }
 },
 "nbformat": 4,
 "nbformat_minor": 5
}
